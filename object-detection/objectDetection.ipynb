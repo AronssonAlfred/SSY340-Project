{
 "cells": [
  {
   "cell_type": "markdown",
   "id": "ca8b413c-3993-4933-b899-b2edb0802f74",
   "metadata": {},
   "source": [
    "# Object Detection for Face Detection Project\n",
    "\n",
    "This notebook demonstrates the use of pre-trained object detection models, specifically focusing on detecting faces in images and live video feeds. The goal of this project is to implement and compare different object detection models, starting with YOLO (You Only Look Once), and assess their performance in terms of accuracy and speed.\n",
    "\n",
    "## Objectives:\n",
    "1. Research and select a suitable pre-trained object detection model (e.g., YOLOv5 or YOLOv8).\n",
    "2. Validate the model using a sample dataset to assess its performance.\n",
    "3. Implement the model to detect faces in static images and output annotated images with bounding boxes.\n",
    "4. Extend the functionality to handle live video feeds from a webcam, with real-time face detection and bounding box visualization.\n",
    "\n",
    "Throughout the notebook, we will evaluate key metrics such as accuracy (mAP) and inference speed (FPS), making adjustments as needed to optimize for both performance and accuracy.\n"
   ]
  },
  {
   "cell_type": "markdown",
   "id": "d157ad50-97a1-4805-a86e-d9ca188dbc84",
   "metadata": {},
   "source": [
    "### Import necessary libraries"
   ]
  },
  {
   "cell_type": "code",
   "execution_count": 1,
   "id": "e836d1da-44fa-4075-82d8-24bb1c7c9735",
   "metadata": {},
   "outputs": [
    {
     "name": "stdout",
     "output_type": "stream",
     "text": [
      "Creating new Ultralytics Settings v0.0.6 file ✅ \n",
      "View Ultralytics Settings with 'yolo settings' or at '/home/student/.config/Ultralytics/settings.json'\n",
      "Update Settings with 'yolo settings key=value', i.e. 'yolo settings runs_dir=path/to/dir'. For help see https://docs.ultralytics.com/quickstart/#ultralytics-settings.\n"
     ]
    }
   ],
   "source": [
    "import numpy as np\n",
    "import matplotlib.pyplot as plt\n",
    "import torch\n",
    "from ultralytics import YOLO\n",
    "import os\n",
    "import cv2\n",
    "import zipfile\n",
    "import random\n",
    "import shutil"
   ]
  },
  {
   "cell_type": "markdown",
   "id": "a323e491-f4cd-4c09-a519-c25984a00d2e",
   "metadata": {},
   "source": [
    "### Create Folders"
   ]
  },
  {
   "cell_type": "code",
   "execution_count": 2,
   "id": "bce85f01-100d-4dbb-865f-f1c7f75961a0",
   "metadata": {},
   "outputs": [],
   "source": [
    "if not os.path.exists('Training'):\n",
    "    os.makedirs('Training')\n",
    "\n",
    "if not os.path.exists('Validation'):\n",
    "    os.makedirs('Validation')\n",
    "\n",
    "if not os.path.exists('Training/labels'):\n",
    "    os.makedirs('Training/labels')\n",
    "\n",
    "if not os.path.exists('Validation/labels'):\n",
    "    os.makedirs('Validation/labels')\n",
    "\n",
    "if not os.path.exists('Training/images'):\n",
    "    os.makedirs('Training/images')\n",
    "\n",
    "if not os.path.exists('Validation/images'):\n",
    "    os.makedirs('Validation/images')\n",
    "\n"
   ]
  },
  {
   "cell_type": "markdown",
   "id": "47928c30-166b-483b-9d78-60ef255bf0de",
   "metadata": {},
   "source": [
    "### Unzip data"
   ]
  },
  {
   "cell_type": "code",
   "execution_count": 3,
   "id": "bb3150b9-fbdf-4ac7-8264-e4db5901d4de",
   "metadata": {},
   "outputs": [
    {
     "name": "stdout",
     "output_type": "stream",
     "text": [
      "Extracted all images from 'WIDER_train.zip' to 'Training/images' successfully, with flattened directory structure.\n",
      "Extracted all images from 'WIDER_val.zip' to 'Validation/images' successfully, with flattened directory structure.\n"
     ]
    }
   ],
   "source": [
    "def unzip_images_only(zip_file_path, dest_dir, images_location):\n",
    "    \"\"\"\n",
    "    Unzips only the 'images' folder from a given zip file to the specified destination directory.\n",
    "    It extracts all images from the 'WIDER_train/images' folder and places them directly into 'dest_dir/images'.\n",
    "\n",
    "    Parameters:\n",
    "    zip_file_path (str): Path to the zip file to be extracted.\n",
    "    dest_dir (str): Directory where the images should be extracted, into a subdirectory named 'images'.\n",
    "    images_location (str): The folder path inside the zip file where images are located.\n",
    "    \"\"\"\n",
    "    # Define the full path for the 'images' subdirectory\n",
    "    images_dest_dir = os.path.join(dest_dir, 'images')\n",
    "\n",
    "    # Ensure the 'images' subdirectory exists\n",
    "    if not os.path.exists(images_dest_dir):\n",
    "        os.makedirs(images_dest_dir)\n",
    "\n",
    "    # Open the zip file\n",
    "    with zipfile.ZipFile(zip_file_path, 'r') as zip_ref:\n",
    "        for file_info in zip_ref.infolist():\n",
    "            # Extract only files from the specified 'images_location' folder\n",
    "            if file_info.filename.startswith(images_location) and not file_info.is_dir():\n",
    "                # Flatten the structure by moving all images directly into 'images_dest_dir'\n",
    "                # Extract the filename only (ignore subdirectories)\n",
    "                filename = os.path.basename(file_info.filename)\n",
    "                target_path = os.path.join(images_dest_dir, filename)\n",
    "                \n",
    "                # Extract the file to the target path\n",
    "                with zip_ref.open(file_info) as source, open(target_path, 'wb') as target:\n",
    "                    target.write(source.read())\n",
    "\n",
    "        print(f\"Extracted all images from '{zip_file_path}' to '{images_dest_dir}' successfully, with flattened directory structure.\")\n",
    "\n",
    "\n",
    "# Unzip train data\n",
    "zip_file_path_train = 'WIDER_train.zip'\n",
    "dest_dir_train = 'Training'\n",
    "images_location_train = 'WIDER_train/images/'\n",
    "\n",
    "if not os.listdir('Training/images'):\n",
    "    unzip_images_only(zip_file_path_train, dest_dir_train, images_location_train)\n",
    "\n",
    "# Unzip validation data\n",
    "zip_file_path_val = 'WIDER_val.zip'\n",
    "dest_dir_val = 'Validation'\n",
    "images_location_val = 'WIDER_val/images/'\n",
    "\n",
    "if not os.listdir('Validation/images'):\n",
    "    unzip_images_only(zip_file_path_val, dest_dir_val, images_location_val)"
   ]
  },
  {
   "cell_type": "markdown",
   "id": "2d45992d-cf0b-415c-9b69-d7a068cb2658",
   "metadata": {},
   "source": [
    "### Unzip GT data"
   ]
  },
  {
   "cell_type": "code",
   "execution_count": 8,
   "id": "677ff123-1293-4ccd-8a44-f84f558c9b83",
   "metadata": {},
   "outputs": [
    {
     "name": "stdout",
     "output_type": "stream",
     "text": [
      "Extracted 'wider_face_split.zip' to '/home/student/SSY340-Project/object-detection' successfully.\n"
     ]
    }
   ],
   "source": [
    "\n",
    "def unzip_file(zip_file_path, dest_dir=\".\"):\n",
    "    \"\"\"\n",
    "    Unzips a given zipped file to the specified destination directory.\n",
    "\n",
    "    Parameters:\n",
    "    zip_file_path (str): Path to the zip file to be extracted.\n",
    "    dest_dir (str): Directory where the zip file should be extracted.\n",
    "                    Default is the current working directory.\n",
    "    \"\"\"\n",
    "    # Check if the destination directory exists, if not, create it\n",
    "    if not os.path.exists(dest_dir):\n",
    "        os.makedirs(dest_dir)\n",
    "\n",
    "    # Check if the zip file exists\n",
    "    if not os.path.exists(zip_file_path):\n",
    "        print(f\"Error: Zip file '{zip_file_path}' does not exist.\")\n",
    "        return\n",
    "\n",
    "    # Unzipping the file\n",
    "    try:\n",
    "        with zipfile.ZipFile(zip_file_path, 'r') as zip_ref:\n",
    "            zip_ref.extractall(dest_dir)\n",
    "            print(f\"Extracted '{zip_file_path}' to '{os.path.abspath(dest_dir)}' successfully.\")\n",
    "    except zipfile.BadZipFile:\n",
    "        print(f\"Error: '{zip_file_path}' is not a valid zip file.\")\n",
    "\n",
    "# Example usage\n",
    "zip_file_path = 'wider_face_split.zip'\n",
    "#dest_dir = './extracted_files'\n",
    "\n",
    "unzip_file(zip_file_path)\n"
   ]
  },
  {
   "cell_type": "markdown",
   "id": "2cf92ff2-72fe-4d45-8e2e-bfb4e648899c",
   "metadata": {},
   "source": [
    "### Convert Annotations From the Wider Format to the YOLO Format"
   ]
  },
  {
   "cell_type": "code",
   "execution_count": 9,
   "id": "bceca317-9003-44c6-ba0e-462d1f3ffc79",
   "metadata": {},
   "outputs": [],
   "source": [
    "\n",
    "# Function to parse annotations and convert them to YOLO format\n",
    "def convert_to_yolo_format(annotations_file, images_root, output_labels_dir):\n",
    "    with open(annotations_file, 'r') as file:\n",
    "        lines = file.readlines()\n",
    "\n",
    "    i = 0\n",
    "    while i < len(lines):\n",
    "        # Parse image path\n",
    "        image_path = lines[i].strip()\n",
    "\n",
    "        # Skip if this line does not represent an image path\n",
    "        if not image_path.endswith('.jpg'):\n",
    "            i += 1\n",
    "            continue\n",
    "\n",
    "        # Extract only the filename (ignore any subdirectory in the annotation)\n",
    "        image_filename = os.path.basename(image_path)\n",
    "        image_full_path = os.path.join(images_root, image_filename)\n",
    "\n",
    "        # Skip if image does not exist\n",
    "        if not os.path.exists(image_full_path):\n",
    "            print(f\"Warning: Image {image_full_path} does not exist.\")\n",
    "            i += 1\n",
    "            # Skip to the next image by finding the next valid image path\n",
    "            while i < len(lines) and not lines[i].strip().endswith('.jpg'):\n",
    "                i += 1\n",
    "            continue\n",
    "\n",
    "        # Load image to get dimensions\n",
    "        image = cv2.imread(image_full_path)\n",
    "        if image is None:\n",
    "            print(f\"Error: Failed to load image {image_full_path}\")\n",
    "            i += 1\n",
    "            # Skip to the next image by finding the next valid image path\n",
    "            while i < len(lines) and not lines[i].strip().endswith('.jpg'):\n",
    "                i += 1\n",
    "            continue\n",
    "\n",
    "        image_height, image_width, _ = image.shape\n",
    "\n",
    "        # Parse number of bounding boxes\n",
    "        try:\n",
    "            num_boxes = int(lines[i + 1].strip())\n",
    "        except ValueError:\n",
    "            print(f\"Error: Expected an integer for number of bounding boxes but got: {lines[i + 1].strip()}\")\n",
    "            i += 1\n",
    "            # Skip to the next image by finding the next valid image path\n",
    "            while i < len(lines) and not lines[i].strip().endswith('.jpg'):\n",
    "                i += 1\n",
    "            continue\n",
    "\n",
    "        # Create the label file path in the output labels directory\n",
    "        label_path = os.path.join(output_labels_dir, image_filename.replace('.jpg', '.txt'))\n",
    "\n",
    "        with open(label_path, 'w') as label_file:\n",
    "            # Loop through bounding boxes\n",
    "            for j in range(num_boxes):\n",
    "                try:\n",
    "                    box_data = list(map(int, lines[i + 2 + j].split()[:4]))  # Extract x, y, width, height\n",
    "                    x, y, width, height = box_data\n",
    "\n",
    "                    # Convert to YOLO format\n",
    "                    x_center = (x + width / 2) / image_width\n",
    "                    y_center = (y + height / 2) / image_height\n",
    "                    width_normalized = width / image_width\n",
    "                    height_normalized = height / image_height\n",
    "\n",
    "                    # Write to label file in YOLO format\n",
    "                    label_file.write(f\"0 {x_center} {y_center} {width_normalized} {height_normalized}\\n\")\n",
    "                except ValueError:\n",
    "                    print(f\"Warning: Failed to parse bounding box for {image_filename}, skipping this bounding box.\")\n",
    "                    continue\n",
    "\n",
    "        # Move to the next image's annotations\n",
    "        i += 2 + num_boxes\n",
    "\n",
    "# Define paths\n",
    "\n",
    "# Training Data\n",
    "annotations_file_training = 'wider_face_split/wider_face_train_bbx_gt.txt'\n",
    "images_root_training = 'Training/images'\n",
    "output_labels_dir_training = 'Training/labels'\n",
    "\n",
    "if not os.path.exists(output_labels_dir_training):\n",
    "    os.makedirs(output_labels_dir_training)\n",
    "\n",
    "# Validation Data\n",
    "annotations_file_validation = 'wider_face_split/wider_face_val_bbx_gt.txt'\n",
    "images_root_validation = 'Validation/images'\n",
    "output_labels_dir_validation = 'Validation/labels'\n",
    "\n",
    "if not os.path.exists(output_labels_dir_validation):\n",
    "    os.makedirs(output_labels_dir_validation)\n",
    "\n",
    "# Convert the annotations to YOLO format\n",
    "if not os.listdir(output_labels_dir_training):\n",
    "    convert_to_yolo_format(annotations_file_training, images_root_training, output_labels_dir_training)\n",
    "\n",
    "if not os.listdir(output_labels_dir_validation):\n",
    "    convert_to_yolo_format(annotations_file_validation, images_root_validation, output_labels_dir_validation)\n"
   ]
  },
  {
   "cell_type": "markdown",
   "id": "cc0ab3b4-057b-402d-b599-2df011bf8b19",
   "metadata": {},
   "source": [
    "### Load Pre-Trained YOLO v8n model"
   ]
  },
  {
   "cell_type": "code",
   "execution_count": 10,
   "id": "a2dc5108-ba64-4d0c-a678-aed31090dcea",
   "metadata": {},
   "outputs": [],
   "source": [
    "model = YOLO('yolov8n.pt')"
   ]
  },
  {
   "cell_type": "markdown",
   "id": "39006d65-4623-4beb-889c-e99ebfab5c89",
   "metadata": {},
   "source": [
    "### Verify model"
   ]
  },
  {
   "cell_type": "code",
   "execution_count": 11,
   "id": "2a29fdf7-c5fc-457c-8f26-43cf666da175",
   "metadata": {},
   "outputs": [
    {
     "name": "stdout",
     "output_type": "stream",
     "text": [
      "Randomly selected image: Training/images/48_Parachutist_Paratrooper_Parachutist_Paratrooper_48_660.jpg\n",
      "\n",
      "image 1/1 /home/student/SSY340-Project/object-detection/Training/images/48_Parachutist_Paratrooper_Parachutist_Paratrooper_48_660.jpg: 480x640 9 persons, 1 laptop, 2 cell phones, 61.6ms\n",
      "Speed: 3.3ms preprocess, 61.6ms inference, 86.2ms postprocess per image at shape (1, 3, 480, 640)\n"
     ]
    },
    {
     "name": "stderr",
     "output_type": "stream",
     "text": [
      "/usr/bin/xdg-open: 882: www-browser: not found\n",
      "/usr/bin/xdg-open: 882: links2: not found\n",
      "/usr/bin/xdg-open: 882: elinks: not found\n",
      "/usr/bin/xdg-open: 882: links: not found\n",
      "/usr/bin/xdg-open: 882: lynx: not found\n",
      "/usr/bin/xdg-open: 882: w3m: not found\n",
      "xdg-open: no method available for opening '/tmp/tmpsisa7ays.PNG'\n"
     ]
    }
   ],
   "source": [
    "# Define the path to the images directory\n",
    "images_dir = 'Training/images/'\n",
    "\n",
    "# List all image files in the directory (directly under images_dir)\n",
    "image_files = [os.path.join(images_dir, f) for f in os.listdir(images_dir) if f.endswith('.jpg')]\n",
    "\n",
    "# Ensure there are images available\n",
    "if len(image_files) == 0:\n",
    "    print(\"No images found in the directory.\")\n",
    "else:\n",
    "    # Randomly select an image from the list\n",
    "    random_image = random.choice(image_files)\n",
    "    print(f\"Randomly selected image: {random_image}\")\n",
    "\n",
    "    # Run inference on the selected image\n",
    "    results = model(random_image)\n",
    "\n",
    "    # Display the results\n",
    "    results[0].show()"
   ]
  },
  {
   "cell_type": "markdown",
   "id": "22d2ba0b-cd4a-48b6-8832-e45cfb96abea",
   "metadata": {},
   "source": [
    "### Train model"
   ]
  },
  {
   "cell_type": "code",
   "execution_count": 15,
   "id": "ade75e86-409f-4bc1-913d-37c7854a2dfc",
   "metadata": {},
   "outputs": [
    {
     "name": "stdout",
     "output_type": "stream",
     "text": [
      "\u001b[34m\u001b[1mengine/trainer: \u001b[0mtask=detect, mode=train, model=yolov8n.pt, data=data.yaml, epochs=50, time=None, patience=100, batch=16, imgsz=640, save=True, save_period=-1, cache=False, device=cuda:0, workers=8, project=None, name=train7, exist_ok=False, pretrained=True, optimizer=auto, verbose=True, seed=0, deterministic=True, single_cls=False, rect=False, cos_lr=False, close_mosaic=10, resume=False, amp=True, fraction=1.0, profile=False, freeze=None, multi_scale=False, overlap_mask=True, mask_ratio=4, dropout=0.0, val=True, split=val, save_json=False, save_hybrid=False, conf=None, iou=0.7, max_det=300, half=False, dnn=False, plots=True, source=None, vid_stride=1, stream_buffer=False, visualize=False, augment=False, agnostic_nms=False, classes=None, retina_masks=False, embed=None, show=False, save_frames=False, save_txt=False, save_conf=False, save_crop=False, show_labels=True, show_conf=True, show_boxes=True, line_width=None, format=torchscript, keras=False, optimize=False, int8=False, dynamic=False, simplify=True, opset=None, workspace=4, nms=False, lr0=0.01, lrf=0.01, momentum=0.937, weight_decay=0.0005, warmup_epochs=3.0, warmup_momentum=0.8, warmup_bias_lr=0.1, box=7.5, cls=0.5, dfl=1.5, pose=12.0, kobj=1.0, label_smoothing=0.0, nbs=64, hsv_h=0.015, hsv_s=0.7, hsv_v=0.4, degrees=0.0, translate=0.1, scale=0.5, shear=0.0, perspective=0.0, flipud=0.0, fliplr=0.5, bgr=0.0, mosaic=1.0, mixup=0.0, copy_paste=0.0, copy_paste_mode=flip, auto_augment=randaugment, erasing=0.4, crop_fraction=1.0, cfg=None, tracker=botsort.yaml, save_dir=runs/detect/train7\n",
      "Downloading https://ultralytics.com/assets/Arial.ttf to '/home/student/.config/Ultralytics/Arial.ttf'...\n"
     ]
    },
    {
     "name": "stderr",
     "output_type": "stream",
     "text": [
      "100%|██████████████████████████████████████████████████████████████████████████| 755k/755k [00:00<00:00, 105MB/s]"
     ]
    },
    {
     "name": "stdout",
     "output_type": "stream",
     "text": [
      "Overriding model.yaml nc=80 with nc=1\n",
      "\n",
      "                   from  n    params  module                                       arguments                     \n",
      "  0                  -1  1       464  ultralytics.nn.modules.conv.Conv             [3, 16, 3, 2]                 \n",
      "  1                  -1  1      4672  ultralytics.nn.modules.conv.Conv             [16, 32, 3, 2]                \n",
      "  2                  -1  1      7360  ultralytics.nn.modules.block.C2f             [32, 32, 1, True]             \n",
      "  3                  -1  1     18560  ultralytics.nn.modules.conv.Conv             [32, 64, 3, 2]                \n",
      "  4                  -1  2     49664  ultralytics.nn.modules.block.C2f             [64, 64, 2, True]             \n",
      "  5                  -1  1     73984  ultralytics.nn.modules.conv.Conv             [64, 128, 3, 2]               \n",
      "  6                  -1  2    197632  ultralytics.nn.modules.block.C2f             [128, 128, 2, True]           \n",
      "  7                  -1  1    295424  ultralytics.nn.modules.conv.Conv             [128, 256, 3, 2]              \n",
      "  8                  -1  1    460288  ultralytics.nn.modules.block.C2f             [256, 256, 1, True]           \n",
      "  9                  -1  1    164608  ultralytics.nn.modules.block.SPPF            [256, 256, 5]                 \n",
      " 10                  -1  1         0  torch.nn.modules.upsampling.Upsample         [None, 2, 'nearest']          \n",
      " 11             [-1, 6]  1         0  ultralytics.nn.modules.conv.Concat           [1]                           \n",
      " 12                  -1  1    148224  ultralytics.nn.modules.block.C2f             [384, 128, 1]                 \n",
      " 13                  -1  1         0  torch.nn.modules.upsampling.Upsample         [None, 2, 'nearest']          \n",
      " 14             [-1, 4]  1         0  ultralytics.nn.modules.conv.Concat           [1]                           \n",
      " 15                  -1  1     37248  ultralytics.nn.modules.block.C2f             [192, 64, 1]                  \n",
      " 16                  -1  1     36992  ultralytics.nn.modules.conv.Conv             [64, 64, 3, 2]                \n",
      " 17            [-1, 12]  1         0  ultralytics.nn.modules.conv.Concat           [1]                           \n",
      " 18                  -1  1    123648  ultralytics.nn.modules.block.C2f             [192, 128, 1]                 \n",
      " 19                  -1  1    147712  ultralytics.nn.modules.conv.Conv             [128, 128, 3, 2]              \n",
      " 20             [-1, 9]  1         0  ultralytics.nn.modules.conv.Concat           [1]                           \n",
      " 21                  -1  1    493056  ultralytics.nn.modules.block.C2f             [384, 256, 1]                 \n",
      " 22        [15, 18, 21]  1    430867  ultralytics.nn.modules.head.Detect           [1, [64, 128, 256]]           \n"
     ]
    },
    {
     "name": "stderr",
     "output_type": "stream",
     "text": [
      "\n"
     ]
    },
    {
     "name": "stdout",
     "output_type": "stream",
     "text": [
      "Model summary: 249 layers, 2,690,403 parameters, 2,690,387 gradients, 6.9 GFLOPs\n",
      "\n",
      "Transferred 58/391 items from pretrained weights\n",
      "\u001b[34m\u001b[1mTensorBoard: \u001b[0mStart with 'tensorboard --logdir runs/detect/train7', view at http://localhost:6006/\n",
      "Freezing layer 'model.22.dfl.conv.weight'\n",
      "\u001b[34m\u001b[1mAMP: \u001b[0mrunning Automatic Mixed Precision (AMP) checks with YOLO11n...\n",
      "Downloading https://github.com/ultralytics/assets/releases/download/v8.3.0/yolo11n.pt to 'yolo11n.pt'...\n"
     ]
    },
    {
     "name": "stderr",
     "output_type": "stream",
     "text": [
      "100%|████████████████████████████████████████████████████████████████████████| 5.35M/5.35M [00:00<00:00, 380MB/s]\n"
     ]
    },
    {
     "name": "stdout",
     "output_type": "stream",
     "text": [
      "\u001b[34m\u001b[1mAMP: \u001b[0mchecks passed ✅\n"
     ]
    },
    {
     "name": "stderr",
     "output_type": "stream",
     "text": [
      "\u001b[34m\u001b[1mtrain: \u001b[0mScanning /home/student/SSY340-Project/object-detection/Training/labels... 12880 images, 4 backgrounds, 1 c\u001b[0m"
     ]
    },
    {
     "name": "stdout",
     "output_type": "stream",
     "text": [
      "\u001b[34m\u001b[1mtrain: \u001b[0mWARNING ⚠️ /home/student/SSY340-Project/object-detection/Training/images/2_Demonstration_Protesters_2_231.jpg: 1 duplicate labels removed\n",
      "\u001b[34m\u001b[1mtrain: \u001b[0mWARNING ⚠️ /home/student/SSY340-Project/object-detection/Training/images/37_Soccer_Soccer_37_851.jpg: 1 duplicate labels removed\n",
      "\u001b[34m\u001b[1mtrain: \u001b[0mWARNING ⚠️ /home/student/SSY340-Project/object-detection/Training/images/54_Rescue_rescuepeople_54_29.jpg: ignoring corrupt image/label: non-normalized or out of bounds coordinates [1.0253906]\n",
      "\u001b[34m\u001b[1mtrain: \u001b[0mWARNING ⚠️ /home/student/SSY340-Project/object-detection/Training/images/7_Cheering_Cheering_7_17.jpg: 1 duplicate labels removed\n"
     ]
    },
    {
     "name": "stderr",
     "output_type": "stream",
     "text": [
      "\n"
     ]
    },
    {
     "name": "stdout",
     "output_type": "stream",
     "text": [
      "\u001b[34m\u001b[1mtrain: \u001b[0mNew cache created: /home/student/SSY340-Project/object-detection/Training/labels.cache\n"
     ]
    },
    {
     "name": "stderr",
     "output_type": "stream",
     "text": [
      "\u001b[34m\u001b[1mval: \u001b[0mScanning /home/student/SSY340-Project/object-detection/Validation/labels... 3226 images, 0 backgrounds, 1 co\u001b[0m"
     ]
    },
    {
     "name": "stdout",
     "output_type": "stream",
     "text": [
      "\u001b[34m\u001b[1mval: \u001b[0mWARNING ⚠️ /home/student/SSY340-Project/object-detection/Validation/images/21_Festival_Festival_21_604.jpg: 1 duplicate labels removed\n",
      "\u001b[34m\u001b[1mval: \u001b[0mWARNING ⚠️ /home/student/SSY340-Project/object-detection/Validation/images/39_Ice_Skating_iceskiing_39_583.jpg: ignoring corrupt image/label: non-normalized or out of bounds coordinates [1.0019531]\n"
     ]
    },
    {
     "name": "stderr",
     "output_type": "stream",
     "text": [
      "\n"
     ]
    },
    {
     "name": "stdout",
     "output_type": "stream",
     "text": [
      "\u001b[34m\u001b[1mval: \u001b[0mNew cache created: /home/student/SSY340-Project/object-detection/Validation/labels.cache\n",
      "Plotting labels to runs/detect/train7/labels.jpg... \n",
      "\u001b[34m\u001b[1moptimizer:\u001b[0m 'optimizer=auto' found, ignoring 'lr0=0.01' and 'momentum=0.937' and determining best 'optimizer', 'lr0' and 'momentum' automatically... \n",
      "\u001b[34m\u001b[1moptimizer:\u001b[0m SGD(lr=0.01, momentum=0.9) with parameter groups 63 weight(decay=0.0), 70 weight(decay=0.0005), 69 bias(decay=0.0)\n",
      "\u001b[34m\u001b[1mTensorBoard: \u001b[0mmodel graph visualization added ✅\n",
      "Image sizes 640 train, 640 val\n",
      "Using 8 dataloader workers\n",
      "Logging results to \u001b[1mruns/detect/train7\u001b[0m\n",
      "Starting training for 50 epochs...\n",
      "\n",
      "      Epoch    GPU_mem   box_loss   cls_loss   dfl_loss  Instances       Size\n"
     ]
    },
    {
     "name": "stderr",
     "output_type": "stream",
     "text": [
      "       1/50      13.5G      2.325      2.129      1.479        210        640: 100%|██████████| 805/805 [02:19<00\n",
      "                 Class     Images  Instances      Box(P          R      mAP50  mAP50-95): 100%|██████████| 101/10\n"
     ]
    },
    {
     "name": "stdout",
     "output_type": "stream",
     "text": [
      "                   all       3225      39675      0.637      0.353       0.39       0.18\n",
      "\n",
      "      Epoch    GPU_mem   box_loss   cls_loss   dfl_loss  Instances       Size\n"
     ]
    },
    {
     "name": "stderr",
     "output_type": "stream",
     "text": [
      "       2/50      10.1G       1.81      1.262      1.156        127        640: 100%|██████████| 805/805 [02:14<00\n",
      "                 Class     Images  Instances      Box(P          R      mAP50  mAP50-95): 100%|██████████| 101/10\n"
     ]
    },
    {
     "name": "stdout",
     "output_type": "stream",
     "text": [
      "                   all       3225      39675      0.715        0.4      0.448      0.216\n",
      "\n",
      "      Epoch    GPU_mem   box_loss   cls_loss   dfl_loss  Instances       Size\n"
     ]
    },
    {
     "name": "stderr",
     "output_type": "stream",
     "text": [
      "       3/50      14.3G      1.735      1.103      1.096        144        640: 100%|██████████| 805/805 [02:12<00\n",
      "                 Class     Images  Instances      Box(P          R      mAP50  mAP50-95): 100%|██████████| 101/10\n"
     ]
    },
    {
     "name": "stdout",
     "output_type": "stream",
     "text": [
      "                   all       3225      39675      0.727      0.429      0.493      0.252\n",
      "\n",
      "      Epoch    GPU_mem   box_loss   cls_loss   dfl_loss  Instances       Size\n"
     ]
    },
    {
     "name": "stderr",
     "output_type": "stream",
     "text": [
      "       4/50      9.46G       1.69      1.022      1.068        161        640: 100%|██████████| 805/805 [02:14<00\n",
      "                 Class     Images  Instances      Box(P          R      mAP50  mAP50-95): 100%|██████████| 101/10\n"
     ]
    },
    {
     "name": "stdout",
     "output_type": "stream",
     "text": [
      "                   all       3225      39675      0.762      0.467      0.531       0.27\n",
      "\n",
      "      Epoch    GPU_mem   box_loss   cls_loss   dfl_loss  Instances       Size\n"
     ]
    },
    {
     "name": "stderr",
     "output_type": "stream",
     "text": [
      "       5/50      12.2G      1.629     0.9489      1.048        155        640: 100%|██████████| 805/805 [02:13<00\n",
      "                 Class     Images  Instances      Box(P          R      mAP50  mAP50-95): 100%|██████████| 101/10\n"
     ]
    },
    {
     "name": "stdout",
     "output_type": "stream",
     "text": [
      "                   all       3225      39675      0.778      0.471      0.539      0.277\n",
      "\n",
      "      Epoch    GPU_mem   box_loss   cls_loss   dfl_loss  Instances       Size\n"
     ]
    },
    {
     "name": "stderr",
     "output_type": "stream",
     "text": [
      "       6/50      10.3G      1.601     0.9083      1.033        241        640: 100%|██████████| 805/805 [02:13<00\n",
      "                 Class     Images  Instances      Box(P          R      mAP50  mAP50-95): 100%|██████████| 101/10\n"
     ]
    },
    {
     "name": "stdout",
     "output_type": "stream",
     "text": [
      "                   all       3225      39675      0.775      0.494      0.561       0.29\n",
      "\n",
      "      Epoch    GPU_mem   box_loss   cls_loss   dfl_loss  Instances       Size\n"
     ]
    },
    {
     "name": "stderr",
     "output_type": "stream",
     "text": [
      "       7/50      12.3G      1.573     0.8836      1.031         98        640: 100%|██████████| 805/805 [02:14<00\n",
      "                 Class     Images  Instances      Box(P          R      mAP50  mAP50-95): 100%|██████████| 101/10\n"
     ]
    },
    {
     "name": "stdout",
     "output_type": "stream",
     "text": [
      "                   all       3225      39675      0.788      0.488      0.563      0.295\n",
      "\n",
      "      Epoch    GPU_mem   box_loss   cls_loss   dfl_loss  Instances       Size\n"
     ]
    },
    {
     "name": "stderr",
     "output_type": "stream",
     "text": [
      "       8/50        11G      1.556     0.8654      1.027        181        640: 100%|██████████| 805/805 [02:12<00\n",
      "                 Class     Images  Instances      Box(P          R      mAP50  mAP50-95): 100%|██████████| 101/10\n"
     ]
    },
    {
     "name": "stdout",
     "output_type": "stream",
     "text": [
      "                   all       3225      39675      0.803      0.505       0.58      0.305\n",
      "\n",
      "      Epoch    GPU_mem   box_loss   cls_loss   dfl_loss  Instances       Size\n"
     ]
    },
    {
     "name": "stderr",
     "output_type": "stream",
     "text": [
      "       9/50      10.5G      1.549     0.8515      1.019        128        640: 100%|██████████| 805/805 [02:14<00\n",
      "                 Class     Images  Instances      Box(P          R      mAP50  mAP50-95): 100%|██████████| 101/10\n"
     ]
    },
    {
     "name": "stdout",
     "output_type": "stream",
     "text": [
      "                   all       3225      39675      0.797      0.511      0.585      0.308\n",
      "\n",
      "      Epoch    GPU_mem   box_loss   cls_loss   dfl_loss  Instances       Size\n"
     ]
    },
    {
     "name": "stderr",
     "output_type": "stream",
     "text": [
      "      10/50      13.5G      1.537     0.8386      1.015        156        640: 100%|██████████| 805/805 [02:15<00\n",
      "                 Class     Images  Instances      Box(P          R      mAP50  mAP50-95): 100%|██████████| 101/10\n"
     ]
    },
    {
     "name": "stdout",
     "output_type": "stream",
     "text": [
      "                   all       3225      39675      0.805      0.521      0.592      0.312\n",
      "\n",
      "      Epoch    GPU_mem   box_loss   cls_loss   dfl_loss  Instances       Size\n"
     ]
    },
    {
     "name": "stderr",
     "output_type": "stream",
     "text": [
      "      11/50      13.7G      1.519     0.8273      1.015        211        640: 100%|██████████| 805/805 [02:13<00\n",
      "                 Class     Images  Instances      Box(P          R      mAP50  mAP50-95): 100%|██████████| 101/10\n"
     ]
    },
    {
     "name": "stdout",
     "output_type": "stream",
     "text": [
      "                   all       3225      39675      0.812      0.515      0.591      0.311\n",
      "\n",
      "      Epoch    GPU_mem   box_loss   cls_loss   dfl_loss  Instances       Size\n"
     ]
    },
    {
     "name": "stderr",
     "output_type": "stream",
     "text": [
      "      12/50        13G      1.506     0.8143      1.011        174        640: 100%|██████████| 805/805 [02:13<00\n",
      "                 Class     Images  Instances      Box(P          R      mAP50  mAP50-95): 100%|██████████| 101/10\n"
     ]
    },
    {
     "name": "stdout",
     "output_type": "stream",
     "text": [
      "                   all       3225      39675      0.811      0.521      0.598      0.317\n",
      "\n",
      "      Epoch    GPU_mem   box_loss   cls_loss   dfl_loss  Instances       Size\n"
     ]
    },
    {
     "name": "stderr",
     "output_type": "stream",
     "text": [
      "      13/50      10.2G      1.502     0.8083      1.005        191        640: 100%|██████████| 805/805 [02:13<00\n",
      "                 Class     Images  Instances      Box(P          R      mAP50  mAP50-95): 100%|██████████| 101/10\n"
     ]
    },
    {
     "name": "stdout",
     "output_type": "stream",
     "text": [
      "                   all       3225      39675      0.811      0.521      0.596      0.317\n",
      "\n",
      "      Epoch    GPU_mem   box_loss   cls_loss   dfl_loss  Instances       Size\n"
     ]
    },
    {
     "name": "stderr",
     "output_type": "stream",
     "text": [
      "      14/50      12.1G        1.5     0.8028      1.004        244        640: 100%|██████████| 805/805 [02:15<00\n",
      "                 Class     Images  Instances      Box(P          R      mAP50  mAP50-95): 100%|██████████| 101/10\n"
     ]
    },
    {
     "name": "stdout",
     "output_type": "stream",
     "text": [
      "                   all       3225      39675      0.817      0.525      0.604       0.32\n",
      "\n",
      "      Epoch    GPU_mem   box_loss   cls_loss   dfl_loss  Instances       Size\n"
     ]
    },
    {
     "name": "stderr",
     "output_type": "stream",
     "text": [
      "      15/50      14.5G        1.5     0.8029      1.002        293        640: 100%|██████████| 805/805 [02:14<00\n",
      "                 Class     Images  Instances      Box(P          R      mAP50  mAP50-95): 100%|██████████| 101/10\n"
     ]
    },
    {
     "name": "stdout",
     "output_type": "stream",
     "text": [
      "                   all       3225      39675      0.812      0.533      0.606       0.32\n",
      "\n",
      "      Epoch    GPU_mem   box_loss   cls_loss   dfl_loss  Instances       Size\n"
     ]
    },
    {
     "name": "stderr",
     "output_type": "stream",
     "text": [
      "      16/50      13.5G      1.488     0.7905     0.9981        313        640: 100%|██████████| 805/805 [02:14<00\n",
      "                 Class     Images  Instances      Box(P          R      mAP50  mAP50-95): 100%|██████████| 101/10\n"
     ]
    },
    {
     "name": "stdout",
     "output_type": "stream",
     "text": [
      "                   all       3225      39675      0.817      0.537      0.614      0.328\n",
      "\n",
      "      Epoch    GPU_mem   box_loss   cls_loss   dfl_loss  Instances       Size\n"
     ]
    },
    {
     "name": "stderr",
     "output_type": "stream",
     "text": [
      "      17/50      13.1G      1.481     0.7829     0.9994        154        640: 100%|██████████| 805/805 [02:14<00\n",
      "                 Class     Images  Instances      Box(P          R      mAP50  mAP50-95): 100%|██████████| 101/10\n"
     ]
    },
    {
     "name": "stdout",
     "output_type": "stream",
     "text": [
      "                   all       3225      39675      0.817      0.533      0.611      0.326\n",
      "\n",
      "      Epoch    GPU_mem   box_loss   cls_loss   dfl_loss  Instances       Size\n"
     ]
    },
    {
     "name": "stderr",
     "output_type": "stream",
     "text": [
      "      18/50      15.3G       1.48     0.7779      0.996        149        640: 100%|██████████| 805/805 [02:14<00\n",
      "                 Class     Images  Instances      Box(P          R      mAP50  mAP50-95): 100%|██████████| 101/10\n"
     ]
    },
    {
     "name": "stdout",
     "output_type": "stream",
     "text": [
      "                   all       3225      39675      0.818      0.535      0.616      0.332\n",
      "\n",
      "      Epoch    GPU_mem   box_loss   cls_loss   dfl_loss  Instances       Size\n"
     ]
    },
    {
     "name": "stderr",
     "output_type": "stream",
     "text": [
      "      19/50        11G      1.474     0.7757     0.9937        209        640: 100%|██████████| 805/805 [02:14<00\n",
      "                 Class     Images  Instances      Box(P          R      mAP50  mAP50-95): 100%|██████████| 101/10\n"
     ]
    },
    {
     "name": "stdout",
     "output_type": "stream",
     "text": [
      "                   all       3225      39675      0.822      0.542       0.62      0.332\n",
      "\n",
      "      Epoch    GPU_mem   box_loss   cls_loss   dfl_loss  Instances       Size\n"
     ]
    },
    {
     "name": "stderr",
     "output_type": "stream",
     "text": [
      "      20/50      13.7G      1.477     0.7748     0.9935        253        640: 100%|██████████| 805/805 [02:14<00\n",
      "                 Class     Images  Instances      Box(P          R      mAP50  mAP50-95): 100%|██████████| 101/10\n"
     ]
    },
    {
     "name": "stdout",
     "output_type": "stream",
     "text": [
      "                   all       3225      39675      0.818      0.544       0.62      0.332\n",
      "\n",
      "      Epoch    GPU_mem   box_loss   cls_loss   dfl_loss  Instances       Size\n"
     ]
    },
    {
     "name": "stderr",
     "output_type": "stream",
     "text": [
      "      21/50      10.2G      1.463     0.7664     0.9923        165        640: 100%|██████████| 805/805 [02:13<00\n",
      "                 Class     Images  Instances      Box(P          R      mAP50  mAP50-95): 100%|██████████| 101/10\n"
     ]
    },
    {
     "name": "stdout",
     "output_type": "stream",
     "text": [
      "                   all       3225      39675      0.826      0.541      0.622      0.334\n",
      "\n",
      "      Epoch    GPU_mem   box_loss   cls_loss   dfl_loss  Instances       Size\n"
     ]
    },
    {
     "name": "stderr",
     "output_type": "stream",
     "text": [
      "      22/50      13.2G      1.458     0.7603     0.9913        279        640: 100%|██████████| 805/805 [02:14<00\n",
      "                 Class     Images  Instances      Box(P          R      mAP50  mAP50-95): 100%|██████████| 101/10\n"
     ]
    },
    {
     "name": "stdout",
     "output_type": "stream",
     "text": [
      "                   all       3225      39675       0.83      0.543      0.622      0.333\n",
      "\n",
      "      Epoch    GPU_mem   box_loss   cls_loss   dfl_loss  Instances       Size\n"
     ]
    },
    {
     "name": "stderr",
     "output_type": "stream",
     "text": [
      "      23/50      11.7G      1.458     0.7566     0.9904        175        640: 100%|██████████| 805/805 [02:15<00\n",
      "                 Class     Images  Instances      Box(P          R      mAP50  mAP50-95): 100%|██████████| 101/10\n"
     ]
    },
    {
     "name": "stdout",
     "output_type": "stream",
     "text": [
      "                   all       3225      39675      0.826      0.545      0.625      0.335\n",
      "\n",
      "      Epoch    GPU_mem   box_loss   cls_loss   dfl_loss  Instances       Size\n"
     ]
    },
    {
     "name": "stderr",
     "output_type": "stream",
     "text": [
      "      24/50      10.5G      1.467     0.7584     0.9884        281        640: 100%|██████████| 805/805 [02:17<00\n",
      "                 Class     Images  Instances      Box(P          R      mAP50  mAP50-95): 100%|██████████| 101/10\n"
     ]
    },
    {
     "name": "stdout",
     "output_type": "stream",
     "text": [
      "                   all       3225      39675      0.823      0.545      0.623      0.333\n",
      "\n",
      "      Epoch    GPU_mem   box_loss   cls_loss   dfl_loss  Instances       Size\n"
     ]
    },
    {
     "name": "stderr",
     "output_type": "stream",
     "text": [
      "      25/50        13G      1.454     0.7521     0.9851        104        640: 100%|██████████| 805/805 [02:16<00\n",
      "                 Class     Images  Instances      Box(P          R      mAP50  mAP50-95): 100%|██████████| 101/10\n"
     ]
    },
    {
     "name": "stdout",
     "output_type": "stream",
     "text": [
      "                   all       3225      39675       0.83      0.551      0.631      0.339\n",
      "\n",
      "      Epoch    GPU_mem   box_loss   cls_loss   dfl_loss  Instances       Size\n"
     ]
    },
    {
     "name": "stderr",
     "output_type": "stream",
     "text": [
      "      26/50      11.3G      1.446     0.7441     0.9861        272        640: 100%|██████████| 805/805 [02:13<00\n",
      "                 Class     Images  Instances      Box(P          R      mAP50  mAP50-95): 100%|██████████| 101/10\n"
     ]
    },
    {
     "name": "stdout",
     "output_type": "stream",
     "text": [
      "                   all       3225      39675      0.829       0.55       0.63      0.339\n",
      "\n",
      "      Epoch    GPU_mem   box_loss   cls_loss   dfl_loss  Instances       Size\n"
     ]
    },
    {
     "name": "stderr",
     "output_type": "stream",
     "text": [
      "      27/50      11.1G      1.451     0.7461     0.9844        268        640: 100%|██████████| 805/805 [02:16<00\n",
      "                 Class     Images  Instances      Box(P          R      mAP50  mAP50-95): 100%|██████████| 101/10\n"
     ]
    },
    {
     "name": "stdout",
     "output_type": "stream",
     "text": [
      "                   all       3225      39675      0.831      0.552       0.63      0.339\n",
      "\n",
      "      Epoch    GPU_mem   box_loss   cls_loss   dfl_loss  Instances       Size\n"
     ]
    },
    {
     "name": "stderr",
     "output_type": "stream",
     "text": [
      "      28/50      9.98G      1.434     0.7349     0.9812        164        640: 100%|██████████| 805/805 [02:17<00\n",
      "                 Class     Images  Instances      Box(P          R      mAP50  mAP50-95): 100%|██████████| 101/10\n"
     ]
    },
    {
     "name": "stdout",
     "output_type": "stream",
     "text": [
      "                   all       3225      39675       0.83      0.552      0.634      0.342\n",
      "\n",
      "      Epoch    GPU_mem   box_loss   cls_loss   dfl_loss  Instances       Size\n"
     ]
    },
    {
     "name": "stderr",
     "output_type": "stream",
     "text": [
      "      29/50      10.7G      1.437     0.7337     0.9816        240        640: 100%|██████████| 805/805 [02:18<00\n",
      "                 Class     Images  Instances      Box(P          R      mAP50  mAP50-95): 100%|██████████| 101/10\n"
     ]
    },
    {
     "name": "stdout",
     "output_type": "stream",
     "text": [
      "                   all       3225      39675      0.834      0.553      0.635      0.342\n",
      "\n",
      "      Epoch    GPU_mem   box_loss   cls_loss   dfl_loss  Instances       Size\n"
     ]
    },
    {
     "name": "stderr",
     "output_type": "stream",
     "text": [
      "      30/50      12.6G       1.43     0.7298     0.9817        125        640: 100%|██████████| 805/805 [02:13<00\n",
      "                 Class     Images  Instances      Box(P          R      mAP50  mAP50-95): 100%|██████████| 101/10\n"
     ]
    },
    {
     "name": "stdout",
     "output_type": "stream",
     "text": [
      "                   all       3225      39675      0.831      0.556      0.636      0.343\n",
      "\n",
      "      Epoch    GPU_mem   box_loss   cls_loss   dfl_loss  Instances       Size\n"
     ]
    },
    {
     "name": "stderr",
     "output_type": "stream",
     "text": [
      "      31/50      9.55G       1.43     0.7297     0.9782         77        640: 100%|██████████| 805/805 [02:16<00\n",
      "                 Class     Images  Instances      Box(P          R      mAP50  mAP50-95): 100%|██████████| 101/10\n"
     ]
    },
    {
     "name": "stdout",
     "output_type": "stream",
     "text": [
      "                   all       3225      39675      0.827      0.558      0.637      0.342\n",
      "\n",
      "      Epoch    GPU_mem   box_loss   cls_loss   dfl_loss  Instances       Size\n"
     ]
    },
    {
     "name": "stderr",
     "output_type": "stream",
     "text": [
      "      32/50      10.5G      1.415     0.7164     0.9776        453        640: 100%|██████████| 805/805 [02:15<00\n",
      "                 Class     Images  Instances      Box(P          R      mAP50  mAP50-95): 100%|██████████| 101/10\n"
     ]
    },
    {
     "name": "stdout",
     "output_type": "stream",
     "text": [
      "                   all       3225      39675      0.831      0.561       0.64      0.346\n",
      "\n",
      "      Epoch    GPU_mem   box_loss   cls_loss   dfl_loss  Instances       Size\n"
     ]
    },
    {
     "name": "stderr",
     "output_type": "stream",
     "text": [
      "      33/50      10.7G       1.41     0.7132     0.9766        419        640: 100%|██████████| 805/805 [02:13<00\n",
      "                 Class     Images  Instances      Box(P          R      mAP50  mAP50-95): 100%|██████████| 101/10\n"
     ]
    },
    {
     "name": "stdout",
     "output_type": "stream",
     "text": [
      "                   all       3225      39675      0.834       0.56      0.641      0.347\n",
      "\n",
      "      Epoch    GPU_mem   box_loss   cls_loss   dfl_loss  Instances       Size\n"
     ]
    },
    {
     "name": "stderr",
     "output_type": "stream",
     "text": [
      "      34/50      12.6G      1.421     0.7181     0.9781        264        640: 100%|██████████| 805/805 [02:18<00\n",
      "                 Class     Images  Instances      Box(P          R      mAP50  mAP50-95): 100%|██████████| 101/10\n"
     ]
    },
    {
     "name": "stdout",
     "output_type": "stream",
     "text": [
      "                   all       3225      39675      0.828      0.562       0.64      0.347\n",
      "\n",
      "      Epoch    GPU_mem   box_loss   cls_loss   dfl_loss  Instances       Size\n"
     ]
    },
    {
     "name": "stderr",
     "output_type": "stream",
     "text": [
      "      35/50      14.1G      1.405      0.712     0.9749        181        640: 100%|██████████| 805/805 [02:16<00\n",
      "                 Class     Images  Instances      Box(P          R      mAP50  mAP50-95): 100%|██████████| 101/10\n"
     ]
    },
    {
     "name": "stdout",
     "output_type": "stream",
     "text": [
      "                   all       3225      39675      0.835       0.56      0.641      0.346\n",
      "\n",
      "      Epoch    GPU_mem   box_loss   cls_loss   dfl_loss  Instances       Size\n"
     ]
    },
    {
     "name": "stderr",
     "output_type": "stream",
     "text": [
      "      36/50      9.19G      1.409     0.7123     0.9729        331        640: 100%|██████████| 805/805 [02:16<00\n",
      "                 Class     Images  Instances      Box(P          R      mAP50  mAP50-95): 100%|██████████| 101/10\n"
     ]
    },
    {
     "name": "stdout",
     "output_type": "stream",
     "text": [
      "                   all       3225      39675      0.833      0.562      0.642      0.347\n",
      "\n",
      "      Epoch    GPU_mem   box_loss   cls_loss   dfl_loss  Instances       Size\n"
     ]
    },
    {
     "name": "stderr",
     "output_type": "stream",
     "text": [
      "      37/50      12.5G      1.408     0.7065     0.9721        192        640: 100%|██████████| 805/805 [02:14<00\n",
      "                 Class     Images  Instances      Box(P          R      mAP50  mAP50-95): 100%|██████████| 101/10\n"
     ]
    },
    {
     "name": "stdout",
     "output_type": "stream",
     "text": [
      "                   all       3225      39675      0.832      0.563      0.643      0.349\n",
      "\n",
      "      Epoch    GPU_mem   box_loss   cls_loss   dfl_loss  Instances       Size\n"
     ]
    },
    {
     "name": "stderr",
     "output_type": "stream",
     "text": [
      "      38/50      14.4G      1.408     0.7045     0.9689        117        640: 100%|██████████| 805/805 [02:16<00\n",
      "                 Class     Images  Instances      Box(P          R      mAP50  mAP50-95): 100%|██████████| 101/10\n"
     ]
    },
    {
     "name": "stdout",
     "output_type": "stream",
     "text": [
      "                   all       3225      39675      0.837      0.562      0.644      0.349\n",
      "\n",
      "      Epoch    GPU_mem   box_loss   cls_loss   dfl_loss  Instances       Size\n"
     ]
    },
    {
     "name": "stderr",
     "output_type": "stream",
     "text": [
      "      39/50      12.8G      1.397     0.6976     0.9702        123        640: 100%|██████████| 805/805 [02:15<00\n",
      "                 Class     Images  Instances      Box(P          R      mAP50  mAP50-95): 100%|██████████| 101/10\n"
     ]
    },
    {
     "name": "stdout",
     "output_type": "stream",
     "text": [
      "                   all       3225      39675      0.832      0.566      0.645      0.349\n",
      "\n",
      "      Epoch    GPU_mem   box_loss   cls_loss   dfl_loss  Instances       Size\n"
     ]
    },
    {
     "name": "stderr",
     "output_type": "stream",
     "text": [
      "      40/50      11.5G      1.395     0.6957     0.9679        271        640: 100%|██████████| 805/805 [02:16<00\n",
      "                 Class     Images  Instances      Box(P          R      mAP50  mAP50-95): 100%|██████████| 101/10\n"
     ]
    },
    {
     "name": "stdout",
     "output_type": "stream",
     "text": [
      "                   all       3225      39675      0.837      0.565      0.646      0.349\n",
      "Closing dataloader mosaic\n",
      "\n",
      "      Epoch    GPU_mem   box_loss   cls_loss   dfl_loss  Instances       Size\n"
     ]
    },
    {
     "name": "stderr",
     "output_type": "stream",
     "text": [
      "      41/50      11.8G      1.379     0.6726     0.9742        199        640: 100%|██████████| 805/805 [02:08<00\n",
      "                 Class     Images  Instances      Box(P          R      mAP50  mAP50-95): 100%|██████████| 101/10\n"
     ]
    },
    {
     "name": "stdout",
     "output_type": "stream",
     "text": [
      "                   all       3225      39675      0.837      0.561      0.645       0.35\n",
      "\n",
      "      Epoch    GPU_mem   box_loss   cls_loss   dfl_loss  Instances       Size\n"
     ]
    },
    {
     "name": "stderr",
     "output_type": "stream",
     "text": [
      "      42/50       9.6G      1.372      0.666     0.9705         52        640: 100%|██████████| 805/805 [02:08<00\n",
      "                 Class     Images  Instances      Box(P          R      mAP50  mAP50-95): 100%|██████████| 101/10\n"
     ]
    },
    {
     "name": "stdout",
     "output_type": "stream",
     "text": [
      "                   all       3225      39675      0.837      0.563      0.645      0.351\n",
      "\n",
      "      Epoch    GPU_mem   box_loss   cls_loss   dfl_loss  Instances       Size\n"
     ]
    },
    {
     "name": "stderr",
     "output_type": "stream",
     "text": [
      "      43/50        12G       1.37     0.6636     0.9682        127        640: 100%|██████████| 805/805 [02:07<00\n",
      "                 Class     Images  Instances      Box(P          R      mAP50  mAP50-95): 100%|██████████| 101/10\n"
     ]
    },
    {
     "name": "stdout",
     "output_type": "stream",
     "text": [
      "                   all       3225      39675      0.839      0.563      0.647      0.351\n",
      "\n",
      "      Epoch    GPU_mem   box_loss   cls_loss   dfl_loss  Instances       Size\n"
     ]
    },
    {
     "name": "stderr",
     "output_type": "stream",
     "text": [
      "      44/50      11.7G      1.367     0.6606     0.9664         58        640: 100%|██████████| 805/805 [02:07<00\n",
      "                 Class     Images  Instances      Box(P          R      mAP50  mAP50-95): 100%|██████████| 101/10\n"
     ]
    },
    {
     "name": "stdout",
     "output_type": "stream",
     "text": [
      "                   all       3225      39675      0.838      0.564      0.647      0.351\n",
      "\n",
      "      Epoch    GPU_mem   box_loss   cls_loss   dfl_loss  Instances       Size\n"
     ]
    },
    {
     "name": "stderr",
     "output_type": "stream",
     "text": [
      "      45/50      14.5G      1.361     0.6548     0.9659        232        640: 100%|██████████| 805/805 [02:08<00\n",
      "                 Class     Images  Instances      Box(P          R      mAP50  mAP50-95): 100%|██████████| 101/10\n"
     ]
    },
    {
     "name": "stdout",
     "output_type": "stream",
     "text": [
      "                   all       3225      39675      0.839      0.564      0.648      0.353\n",
      "\n",
      "      Epoch    GPU_mem   box_loss   cls_loss   dfl_loss  Instances       Size\n"
     ]
    },
    {
     "name": "stderr",
     "output_type": "stream",
     "text": [
      "      46/50      13.8G      1.354     0.6478     0.9647         88        640: 100%|██████████| 805/805 [02:08<00\n",
      "                 Class     Images  Instances      Box(P          R      mAP50  mAP50-95): 100%|██████████| 101/10\n"
     ]
    },
    {
     "name": "stdout",
     "output_type": "stream",
     "text": [
      "                   all       3225      39675      0.841      0.565      0.648      0.352\n",
      "\n",
      "      Epoch    GPU_mem   box_loss   cls_loss   dfl_loss  Instances       Size\n"
     ]
    },
    {
     "name": "stderr",
     "output_type": "stream",
     "text": [
      "      47/50      12.9G      1.349     0.6435     0.9643        131        640: 100%|██████████| 805/805 [02:08<00\n",
      "                 Class     Images  Instances      Box(P          R      mAP50  mAP50-95): 100%|██████████| 101/10\n"
     ]
    },
    {
     "name": "stdout",
     "output_type": "stream",
     "text": [
      "                   all       3225      39675      0.838      0.566      0.648      0.353\n",
      "\n",
      "      Epoch    GPU_mem   box_loss   cls_loss   dfl_loss  Instances       Size\n"
     ]
    },
    {
     "name": "stderr",
     "output_type": "stream",
     "text": [
      "      48/50      10.3G      1.353     0.6448     0.9605         87        640: 100%|██████████| 805/805 [02:08<00\n",
      "                 Class     Images  Instances      Box(P          R      mAP50  mAP50-95): 100%|██████████| 101/10\n"
     ]
    },
    {
     "name": "stdout",
     "output_type": "stream",
     "text": [
      "                   all       3225      39675      0.837      0.566      0.648      0.353\n",
      "\n",
      "      Epoch    GPU_mem   box_loss   cls_loss   dfl_loss  Instances       Size\n"
     ]
    },
    {
     "name": "stderr",
     "output_type": "stream",
     "text": [
      "      49/50      13.2G      1.346      0.638     0.9626         50        640: 100%|██████████| 805/805 [02:07<00\n",
      "                 Class     Images  Instances      Box(P          R      mAP50  mAP50-95): 100%|██████████| 101/10\n"
     ]
    },
    {
     "name": "stdout",
     "output_type": "stream",
     "text": [
      "                   all       3225      39675      0.836      0.566      0.648      0.353\n",
      "\n",
      "      Epoch    GPU_mem   box_loss   cls_loss   dfl_loss  Instances       Size\n"
     ]
    },
    {
     "name": "stderr",
     "output_type": "stream",
     "text": [
      "      50/50      11.8G      1.344     0.6364     0.9598        111        640: 100%|██████████| 805/805 [02:08<00\n",
      "                 Class     Images  Instances      Box(P          R      mAP50  mAP50-95): 100%|██████████| 101/10\n"
     ]
    },
    {
     "name": "stdout",
     "output_type": "stream",
     "text": [
      "                   all       3225      39675      0.841      0.564      0.648      0.353\n",
      "\n",
      "50 epochs completed in 2.170 hours.\n",
      "Optimizer stripped from runs/detect/train7/weights/last.pt, 5.6MB\n",
      "Optimizer stripped from runs/detect/train7/weights/best.pt, 5.6MB\n",
      "\n",
      "Validating runs/detect/train7/weights/best.pt...\n",
      "Ultralytics 8.3.15 🚀 Python-3.11.10 torch-2.3.1+cu118 CUDA:0 (Tesla T4, 14918MiB)\n",
      "Model summary (fused): 186 layers, 2,684,563 parameters, 0 gradients, 6.8 GFLOPs\n"
     ]
    },
    {
     "name": "stderr",
     "output_type": "stream",
     "text": [
      "                 Class     Images  Instances      Box(P          R      mAP50  mAP50-95): 100%|██████████| 101/10\n"
     ]
    },
    {
     "name": "stdout",
     "output_type": "stream",
     "text": [
      "                   all       3225      39675      0.836      0.566      0.648      0.353\n",
      "Speed: 0.1ms preprocess, 1.4ms inference, 0.0ms loss, 0.7ms postprocess per image\n",
      "Results saved to \u001b[1mruns/detect/train7\u001b[0m\n"
     ]
    },
    {
     "data": {
      "text/plain": [
       "ultralytics.utils.metrics.DetMetrics object with attributes:\n",
       "\n",
       "ap_class_index: array([0])\n",
       "box: ultralytics.utils.metrics.Metric object\n",
       "confusion_matrix: <ultralytics.utils.metrics.ConfusionMatrix object at 0x7f5b2a8c1050>\n",
       "curves: ['Precision-Recall(B)', 'F1-Confidence(B)', 'Precision-Confidence(B)', 'Recall-Confidence(B)']\n",
       "curves_results: [[array([          0,    0.001001,    0.002002,    0.003003,    0.004004,    0.005005,    0.006006,    0.007007,    0.008008,    0.009009,     0.01001,    0.011011,    0.012012,    0.013013,    0.014014,    0.015015,    0.016016,    0.017017,    0.018018,    0.019019,     0.02002,    0.021021,    0.022022,    0.023023,\n",
       "          0.024024,    0.025025,    0.026026,    0.027027,    0.028028,    0.029029,     0.03003,    0.031031,    0.032032,    0.033033,    0.034034,    0.035035,    0.036036,    0.037037,    0.038038,    0.039039,     0.04004,    0.041041,    0.042042,    0.043043,    0.044044,    0.045045,    0.046046,    0.047047,\n",
       "          0.048048,    0.049049,     0.05005,    0.051051,    0.052052,    0.053053,    0.054054,    0.055055,    0.056056,    0.057057,    0.058058,    0.059059,     0.06006,    0.061061,    0.062062,    0.063063,    0.064064,    0.065065,    0.066066,    0.067067,    0.068068,    0.069069,     0.07007,    0.071071,\n",
       "          0.072072,    0.073073,    0.074074,    0.075075,    0.076076,    0.077077,    0.078078,    0.079079,     0.08008,    0.081081,    0.082082,    0.083083,    0.084084,    0.085085,    0.086086,    0.087087,    0.088088,    0.089089,     0.09009,    0.091091,    0.092092,    0.093093,    0.094094,    0.095095,\n",
       "          0.096096,    0.097097,    0.098098,    0.099099,      0.1001,      0.1011,      0.1021,      0.1031,      0.1041,     0.10511,     0.10611,     0.10711,     0.10811,     0.10911,     0.11011,     0.11111,     0.11211,     0.11311,     0.11411,     0.11512,     0.11612,     0.11712,     0.11812,     0.11912,\n",
       "           0.12012,     0.12112,     0.12212,     0.12312,     0.12412,     0.12513,     0.12613,     0.12713,     0.12813,     0.12913,     0.13013,     0.13113,     0.13213,     0.13313,     0.13413,     0.13514,     0.13614,     0.13714,     0.13814,     0.13914,     0.14014,     0.14114,     0.14214,     0.14314,\n",
       "           0.14414,     0.14515,     0.14615,     0.14715,     0.14815,     0.14915,     0.15015,     0.15115,     0.15215,     0.15315,     0.15415,     0.15516,     0.15616,     0.15716,     0.15816,     0.15916,     0.16016,     0.16116,     0.16216,     0.16316,     0.16416,     0.16517,     0.16617,     0.16717,\n",
       "           0.16817,     0.16917,     0.17017,     0.17117,     0.17217,     0.17317,     0.17417,     0.17518,     0.17618,     0.17718,     0.17818,     0.17918,     0.18018,     0.18118,     0.18218,     0.18318,     0.18418,     0.18519,     0.18619,     0.18719,     0.18819,     0.18919,     0.19019,     0.19119,\n",
       "           0.19219,     0.19319,     0.19419,      0.1952,      0.1962,      0.1972,      0.1982,      0.1992,      0.2002,      0.2012,      0.2022,      0.2032,      0.2042,     0.20521,     0.20621,     0.20721,     0.20821,     0.20921,     0.21021,     0.21121,     0.21221,     0.21321,     0.21421,     0.21522,\n",
       "           0.21622,     0.21722,     0.21822,     0.21922,     0.22022,     0.22122,     0.22222,     0.22322,     0.22422,     0.22523,     0.22623,     0.22723,     0.22823,     0.22923,     0.23023,     0.23123,     0.23223,     0.23323,     0.23423,     0.23524,     0.23624,     0.23724,     0.23824,     0.23924,\n",
       "           0.24024,     0.24124,     0.24224,     0.24324,     0.24424,     0.24525,     0.24625,     0.24725,     0.24825,     0.24925,     0.25025,     0.25125,     0.25225,     0.25325,     0.25425,     0.25526,     0.25626,     0.25726,     0.25826,     0.25926,     0.26026,     0.26126,     0.26226,     0.26326,\n",
       "           0.26426,     0.26527,     0.26627,     0.26727,     0.26827,     0.26927,     0.27027,     0.27127,     0.27227,     0.27327,     0.27427,     0.27528,     0.27628,     0.27728,     0.27828,     0.27928,     0.28028,     0.28128,     0.28228,     0.28328,     0.28428,     0.28529,     0.28629,     0.28729,\n",
       "           0.28829,     0.28929,     0.29029,     0.29129,     0.29229,     0.29329,     0.29429,      0.2953,      0.2963,      0.2973,      0.2983,      0.2993,      0.3003,      0.3013,      0.3023,      0.3033,      0.3043,     0.30531,     0.30631,     0.30731,     0.30831,     0.30931,     0.31031,     0.31131,\n",
       "           0.31231,     0.31331,     0.31431,     0.31532,     0.31632,     0.31732,     0.31832,     0.31932,     0.32032,     0.32132,     0.32232,     0.32332,     0.32432,     0.32533,     0.32633,     0.32733,     0.32833,     0.32933,     0.33033,     0.33133,     0.33233,     0.33333,     0.33433,     0.33534,\n",
       "           0.33634,     0.33734,     0.33834,     0.33934,     0.34034,     0.34134,     0.34234,     0.34334,     0.34434,     0.34535,     0.34635,     0.34735,     0.34835,     0.34935,     0.35035,     0.35135,     0.35235,     0.35335,     0.35435,     0.35536,     0.35636,     0.35736,     0.35836,     0.35936,\n",
       "           0.36036,     0.36136,     0.36236,     0.36336,     0.36436,     0.36537,     0.36637,     0.36737,     0.36837,     0.36937,     0.37037,     0.37137,     0.37237,     0.37337,     0.37437,     0.37538,     0.37638,     0.37738,     0.37838,     0.37938,     0.38038,     0.38138,     0.38238,     0.38338,\n",
       "           0.38438,     0.38539,     0.38639,     0.38739,     0.38839,     0.38939,     0.39039,     0.39139,     0.39239,     0.39339,     0.39439,      0.3954,      0.3964,      0.3974,      0.3984,      0.3994,      0.4004,      0.4014,      0.4024,      0.4034,      0.4044,     0.40541,     0.40641,     0.40741,\n",
       "           0.40841,     0.40941,     0.41041,     0.41141,     0.41241,     0.41341,     0.41441,     0.41542,     0.41642,     0.41742,     0.41842,     0.41942,     0.42042,     0.42142,     0.42242,     0.42342,     0.42442,     0.42543,     0.42643,     0.42743,     0.42843,     0.42943,     0.43043,     0.43143,\n",
       "           0.43243,     0.43343,     0.43443,     0.43544,     0.43644,     0.43744,     0.43844,     0.43944,     0.44044,     0.44144,     0.44244,     0.44344,     0.44444,     0.44545,     0.44645,     0.44745,     0.44845,     0.44945,     0.45045,     0.45145,     0.45245,     0.45345,     0.45445,     0.45546,\n",
       "           0.45646,     0.45746,     0.45846,     0.45946,     0.46046,     0.46146,     0.46246,     0.46346,     0.46446,     0.46547,     0.46647,     0.46747,     0.46847,     0.46947,     0.47047,     0.47147,     0.47247,     0.47347,     0.47447,     0.47548,     0.47648,     0.47748,     0.47848,     0.47948,\n",
       "           0.48048,     0.48148,     0.48248,     0.48348,     0.48448,     0.48549,     0.48649,     0.48749,     0.48849,     0.48949,     0.49049,     0.49149,     0.49249,     0.49349,     0.49449,      0.4955,      0.4965,      0.4975,      0.4985,      0.4995,      0.5005,      0.5015,      0.5025,      0.5035,\n",
       "            0.5045,     0.50551,     0.50651,     0.50751,     0.50851,     0.50951,     0.51051,     0.51151,     0.51251,     0.51351,     0.51451,     0.51552,     0.51652,     0.51752,     0.51852,     0.51952,     0.52052,     0.52152,     0.52252,     0.52352,     0.52452,     0.52553,     0.52653,     0.52753,\n",
       "           0.52853,     0.52953,     0.53053,     0.53153,     0.53253,     0.53353,     0.53453,     0.53554,     0.53654,     0.53754,     0.53854,     0.53954,     0.54054,     0.54154,     0.54254,     0.54354,     0.54454,     0.54555,     0.54655,     0.54755,     0.54855,     0.54955,     0.55055,     0.55155,\n",
       "           0.55255,     0.55355,     0.55455,     0.55556,     0.55656,     0.55756,     0.55856,     0.55956,     0.56056,     0.56156,     0.56256,     0.56356,     0.56456,     0.56557,     0.56657,     0.56757,     0.56857,     0.56957,     0.57057,     0.57157,     0.57257,     0.57357,     0.57457,     0.57558,\n",
       "           0.57658,     0.57758,     0.57858,     0.57958,     0.58058,     0.58158,     0.58258,     0.58358,     0.58458,     0.58559,     0.58659,     0.58759,     0.58859,     0.58959,     0.59059,     0.59159,     0.59259,     0.59359,     0.59459,      0.5956,      0.5966,      0.5976,      0.5986,      0.5996,\n",
       "            0.6006,      0.6016,      0.6026,      0.6036,      0.6046,     0.60561,     0.60661,     0.60761,     0.60861,     0.60961,     0.61061,     0.61161,     0.61261,     0.61361,     0.61461,     0.61562,     0.61662,     0.61762,     0.61862,     0.61962,     0.62062,     0.62162,     0.62262,     0.62362,\n",
       "           0.62462,     0.62563,     0.62663,     0.62763,     0.62863,     0.62963,     0.63063,     0.63163,     0.63263,     0.63363,     0.63463,     0.63564,     0.63664,     0.63764,     0.63864,     0.63964,     0.64064,     0.64164,     0.64264,     0.64364,     0.64464,     0.64565,     0.64665,     0.64765,\n",
       "           0.64865,     0.64965,     0.65065,     0.65165,     0.65265,     0.65365,     0.65465,     0.65566,     0.65666,     0.65766,     0.65866,     0.65966,     0.66066,     0.66166,     0.66266,     0.66366,     0.66466,     0.66567,     0.66667,     0.66767,     0.66867,     0.66967,     0.67067,     0.67167,\n",
       "           0.67267,     0.67367,     0.67467,     0.67568,     0.67668,     0.67768,     0.67868,     0.67968,     0.68068,     0.68168,     0.68268,     0.68368,     0.68468,     0.68569,     0.68669,     0.68769,     0.68869,     0.68969,     0.69069,     0.69169,     0.69269,     0.69369,     0.69469,      0.6957,\n",
       "            0.6967,      0.6977,      0.6987,      0.6997,      0.7007,      0.7017,      0.7027,      0.7037,      0.7047,     0.70571,     0.70671,     0.70771,     0.70871,     0.70971,     0.71071,     0.71171,     0.71271,     0.71371,     0.71471,     0.71572,     0.71672,     0.71772,     0.71872,     0.71972,\n",
       "           0.72072,     0.72172,     0.72272,     0.72372,     0.72472,     0.72573,     0.72673,     0.72773,     0.72873,     0.72973,     0.73073,     0.73173,     0.73273,     0.73373,     0.73473,     0.73574,     0.73674,     0.73774,     0.73874,     0.73974,     0.74074,     0.74174,     0.74274,     0.74374,\n",
       "           0.74474,     0.74575,     0.74675,     0.74775,     0.74875,     0.74975,     0.75075,     0.75175,     0.75275,     0.75375,     0.75475,     0.75576,     0.75676,     0.75776,     0.75876,     0.75976,     0.76076,     0.76176,     0.76276,     0.76376,     0.76476,     0.76577,     0.76677,     0.76777,\n",
       "           0.76877,     0.76977,     0.77077,     0.77177,     0.77277,     0.77377,     0.77477,     0.77578,     0.77678,     0.77778,     0.77878,     0.77978,     0.78078,     0.78178,     0.78278,     0.78378,     0.78478,     0.78579,     0.78679,     0.78779,     0.78879,     0.78979,     0.79079,     0.79179,\n",
       "           0.79279,     0.79379,     0.79479,      0.7958,      0.7968,      0.7978,      0.7988,      0.7998,      0.8008,      0.8018,      0.8028,      0.8038,      0.8048,     0.80581,     0.80681,     0.80781,     0.80881,     0.80981,     0.81081,     0.81181,     0.81281,     0.81381,     0.81481,     0.81582,\n",
       "           0.81682,     0.81782,     0.81882,     0.81982,     0.82082,     0.82182,     0.82282,     0.82382,     0.82482,     0.82583,     0.82683,     0.82783,     0.82883,     0.82983,     0.83083,     0.83183,     0.83283,     0.83383,     0.83483,     0.83584,     0.83684,     0.83784,     0.83884,     0.83984,\n",
       "           0.84084,     0.84184,     0.84284,     0.84384,     0.84484,     0.84585,     0.84685,     0.84785,     0.84885,     0.84985,     0.85085,     0.85185,     0.85285,     0.85385,     0.85485,     0.85586,     0.85686,     0.85786,     0.85886,     0.85986,     0.86086,     0.86186,     0.86286,     0.86386,\n",
       "           0.86486,     0.86587,     0.86687,     0.86787,     0.86887,     0.86987,     0.87087,     0.87187,     0.87287,     0.87387,     0.87487,     0.87588,     0.87688,     0.87788,     0.87888,     0.87988,     0.88088,     0.88188,     0.88288,     0.88388,     0.88488,     0.88589,     0.88689,     0.88789,\n",
       "           0.88889,     0.88989,     0.89089,     0.89189,     0.89289,     0.89389,     0.89489,      0.8959,      0.8969,      0.8979,      0.8989,      0.8999,      0.9009,      0.9019,      0.9029,      0.9039,      0.9049,     0.90591,     0.90691,     0.90791,     0.90891,     0.90991,     0.91091,     0.91191,\n",
       "           0.91291,     0.91391,     0.91491,     0.91592,     0.91692,     0.91792,     0.91892,     0.91992,     0.92092,     0.92192,     0.92292,     0.92392,     0.92492,     0.92593,     0.92693,     0.92793,     0.92893,     0.92993,     0.93093,     0.93193,     0.93293,     0.93393,     0.93493,     0.93594,\n",
       "           0.93694,     0.93794,     0.93894,     0.93994,     0.94094,     0.94194,     0.94294,     0.94394,     0.94494,     0.94595,     0.94695,     0.94795,     0.94895,     0.94995,     0.95095,     0.95195,     0.95295,     0.95395,     0.95495,     0.95596,     0.95696,     0.95796,     0.95896,     0.95996,\n",
       "           0.96096,     0.96196,     0.96296,     0.96396,     0.96496,     0.96597,     0.96697,     0.96797,     0.96897,     0.96997,     0.97097,     0.97197,     0.97297,     0.97397,     0.97497,     0.97598,     0.97698,     0.97798,     0.97898,     0.97998,     0.98098,     0.98198,     0.98298,     0.98398,\n",
       "           0.98498,     0.98599,     0.98699,     0.98799,     0.98899,     0.98999,     0.99099,     0.99199,     0.99299,     0.99399,     0.99499,       0.996,       0.997,       0.998,       0.999,           1]), array([[          1,           1,           1,           1,           1,           1,           1,           1,           1,           1,           1,           1,           1,           1,           1,           1,           1,           1,           1,           1,           1,           1,           1,\n",
       "                  1,           1,           1,           1,           1,           1,           1,           1,           1,           1,           1,           1,           1,           1,           1,           1,      0.9995,      0.9995,      0.9995,      0.9995,      0.9995,      0.9995,      0.9995,\n",
       "             0.9995,      0.9995,      0.9995,      0.9995,      0.9995,     0.99944,     0.99944,     0.99944,     0.99944,     0.99944,     0.99944,     0.99944,     0.99944,     0.99944,     0.99944,     0.99944,     0.99944,     0.99944,     0.99944,     0.99944,     0.99944,     0.99944,     0.99944,\n",
       "            0.99944,     0.99944,     0.99944,     0.99944,     0.99944,     0.99944,     0.99944,     0.99944,     0.99944,     0.99944,     0.99944,     0.99944,     0.99944,     0.99944,     0.99944,     0.99944,     0.99944,     0.99944,     0.99944,     0.99944,     0.99944,     0.99944,     0.99928,\n",
       "            0.99928,     0.99928,     0.99928,     0.99928,     0.99928,     0.99928,     0.99928,     0.99928,     0.99928,     0.99928,     0.99928,     0.99928,     0.99928,     0.99926,     0.99926,     0.99926,     0.99926,     0.99926,     0.99926,     0.99926,     0.99926,     0.99926,     0.99926,\n",
       "            0.99926,     0.99926,     0.99926,     0.99926,     0.99926,     0.99926,     0.99926,     0.99926,     0.99926,     0.99926,     0.99926,     0.99926,     0.99926,     0.99926,     0.99926,     0.99926,     0.99926,     0.99926,     0.99926,     0.99926,     0.99926,     0.99926,     0.99926,\n",
       "            0.99926,     0.99926,     0.99926,     0.99926,     0.99926,     0.99926,     0.99926,     0.99926,     0.99926,     0.99926,     0.99926,     0.99926,     0.99926,     0.99926,     0.99926,     0.99926,     0.99926,     0.99926,     0.99926,     0.99926,     0.99926,     0.99926,     0.99926,\n",
       "            0.99926,     0.99926,     0.99926,     0.99926,     0.99926,     0.99926,     0.99926,     0.99926,     0.99926,     0.99926,     0.99916,     0.99916,     0.99916,     0.99916,     0.99916,     0.99916,     0.99916,     0.99916,     0.99916,     0.99906,     0.99906,     0.99906,     0.99906,\n",
       "            0.99906,     0.99906,     0.99906,     0.99897,     0.99897,     0.99897,     0.99897,     0.99897,     0.99897,     0.99897,     0.99897,     0.99872,     0.99863,     0.99863,     0.99863,     0.99863,     0.99863,     0.99863,     0.99852,     0.99852,     0.99852,     0.99841,     0.99837,\n",
       "            0.99837,     0.99837,     0.99837,     0.99837,     0.99837,     0.99837,     0.99837,     0.99837,     0.99837,     0.99837,     0.99829,     0.99829,     0.99829,     0.99829,     0.99825,     0.99825,     0.99825,     0.99825,     0.99825,     0.99825,     0.99825,     0.99825,     0.99825,\n",
       "            0.99825,     0.99816,     0.99806,     0.99806,     0.99798,     0.99798,     0.99798,     0.99789,     0.99781,     0.99781,     0.99781,     0.99772,     0.99772,     0.99763,     0.99751,     0.99751,     0.99751,     0.99751,     0.99751,     0.99751,     0.99751,     0.99751,     0.99741,\n",
       "            0.99732,     0.99725,     0.99725,     0.99719,     0.99719,     0.99719,     0.99719,     0.99717,     0.99717,     0.99717,     0.99717,     0.99717,     0.99717,     0.99717,     0.99699,     0.99673,     0.99656,     0.99651,     0.99651,     0.99651,     0.99651,     0.99636,     0.99636,\n",
       "            0.99631,     0.99631,     0.99631,     0.99624,     0.99624,     0.99599,     0.99592,     0.99585,     0.99585,     0.99581,     0.99581,     0.99581,     0.99576,     0.99576,      0.9956,     0.99553,     0.99547,     0.99547,     0.99545,     0.99545,     0.99545,     0.99545,     0.99531,\n",
       "            0.99531,      0.9951,      0.9951,     0.99505,     0.99505,     0.99489,     0.99484,     0.99484,     0.99455,     0.99447,     0.99426,     0.99419,     0.99398,     0.99398,     0.99377,     0.99371,     0.99366,      0.9936,      0.9934,      0.9934,     0.99326,     0.99314,     0.99309,\n",
       "            0.99303,     0.99299,     0.99299,     0.99278,     0.99256,      0.9924,      0.9924,     0.99236,     0.99236,     0.99217,     0.99217,     0.99191,     0.99178,     0.99176,     0.99176,     0.99163,     0.99152,     0.99143,     0.99143,     0.99137,     0.99117,     0.99106,      0.9908,\n",
       "            0.99053,     0.99021,     0.99011,     0.99011,        0.99,     0.98976,     0.98965,     0.98953,       0.989,     0.98889,     0.98885,     0.98885,     0.98885,      0.9888,     0.98857,      0.9884,     0.98839,     0.98839,     0.98839,     0.98839,     0.98821,     0.98808,     0.98808,\n",
       "            0.98778,     0.98761,     0.98744,     0.98737,     0.98737,     0.98727,     0.98711,     0.98676,      0.9866,     0.98643,     0.98609,     0.98592,      0.9855,     0.98511,     0.98508,     0.98479,     0.98458,     0.98442,     0.98428,     0.98363,     0.98341,     0.98314,     0.98307,\n",
       "            0.98297,     0.98266,     0.98232,     0.98193,      0.9818,     0.98159,     0.98139,     0.98116,     0.98101,     0.98075,     0.98031,     0.98023,     0.98013,     0.97998,     0.97978,     0.97924,     0.97887,     0.97882,     0.97862,     0.97844,     0.97814,     0.97785,     0.97771,\n",
       "            0.97718,     0.97694,     0.97642,     0.97616,     0.97607,      0.9759,     0.97539,     0.97499,     0.97457,     0.97431,     0.97409,     0.97365,     0.97331,     0.97282,     0.97215,      0.9715,     0.97129,     0.97091,      0.9707,     0.97022,      0.9698,     0.96958,     0.96911,\n",
       "            0.96874,      0.9686,     0.96798,     0.96772,     0.96726,     0.96679,     0.96644,     0.96577,     0.96533,     0.96498,     0.96474,     0.96429,     0.96385,     0.96342,     0.96317,     0.96259,     0.96237,     0.96222,      0.9617,     0.96131,     0.96068,        0.96,     0.95952,\n",
       "            0.95912,     0.95875,     0.95802,     0.95756,     0.95616,     0.95532,     0.95457,     0.95407,     0.95304,     0.95238,     0.95182,     0.95105,     0.95037,     0.94942,      0.9489,     0.94852,     0.94767,     0.94725,      0.9466,     0.94583,     0.94517,     0.94425,     0.94371,\n",
       "            0.94312,     0.94202,     0.94108,      0.9402,     0.93957,     0.93869,     0.93794,     0.93743,      0.9363,     0.93533,     0.93407,     0.93322,      0.9329,     0.93215,     0.93122,     0.93012,     0.92907,     0.92769,     0.92663,      0.9258,     0.92499,     0.92382,     0.92339,\n",
       "            0.92223,     0.92149,     0.92057,     0.91979,     0.91873,     0.91828,     0.91727,     0.91627,     0.91522,     0.91407,     0.91328,     0.91246,     0.91124,     0.91027,      0.9087,     0.90731,       0.906,      0.9049,     0.90361,     0.90205,     0.90083,     0.89983,     0.89812,\n",
       "            0.89683,     0.89563,     0.89388,     0.89329,       0.892,      0.8902,     0.88868,     0.88775,     0.88689,     0.88498,     0.88393,     0.88296,     0.88144,     0.88026,     0.87838,     0.87658,     0.87476,     0.87264,      0.8707,      0.8697,     0.86865,     0.86727,     0.86518,\n",
       "            0.86357,     0.86195,     0.86087,     0.85803,     0.85622,     0.85446,     0.85182,     0.84967,      0.8476,      0.8451,     0.84332,      0.8421,     0.84027,      0.8384,     0.83615,     0.83429,     0.83176,     0.82992,     0.82684,     0.82418,     0.82192,     0.81913,     0.81596,\n",
       "            0.81331,     0.81077,     0.80853,     0.80578,     0.80403,     0.80203,     0.79981,     0.79758,     0.79488,     0.79255,     0.79007,     0.78812,     0.78611,     0.78305,      0.7801,      0.7778,     0.77514,     0.77225,     0.76939,     0.76528,     0.76266,     0.75908,     0.75462,\n",
       "             0.7518,     0.74854,     0.74538,     0.74243,     0.73842,     0.73492,     0.73181,     0.72853,     0.72494,     0.72221,     0.71862,     0.71388,     0.71052,     0.70582,     0.70287,       0.699,     0.69612,     0.69153,     0.68806,     0.68449,     0.68106,     0.67669,     0.67159,\n",
       "            0.66756,     0.66263,     0.66009,     0.65775,     0.65345,     0.64787,     0.64451,     0.64147,     0.63654,     0.63237,     0.62835,     0.62405,     0.61866,     0.61424,     0.60888,     0.60375,     0.59913,      0.5934,     0.58788,     0.58369,     0.57876,     0.57427,     0.57011,\n",
       "            0.56276,     0.55858,     0.55299,      0.5463,     0.54162,     0.53662,     0.53077,     0.52631,     0.52198,       0.516,     0.51012,     0.50458,     0.50075,     0.49457,     0.48819,     0.48146,     0.47557,     0.46917,     0.46261,     0.45547,     0.44859,     0.44073,     0.43531,\n",
       "            0.42899,     0.42167,     0.41444,     0.40983,     0.40294,     0.39532,     0.38844,     0.38119,       0.373,     0.36456,     0.35791,     0.34993,     0.34312,     0.33514,     0.32692,     0.32025,     0.31444,     0.30549,     0.29865,     0.28945,     0.27968,     0.27221,     0.26481,\n",
       "            0.25731,     0.25035,     0.24226,     0.23513,     0.22384,     0.21647,     0.20704,     0.19846,     0.19018,     0.18117,     0.16919,      0.1577,     0.14926,     0.14177,     0.12765,     0.11597,     0.10798,     0.10761,     0.10724,     0.10687,      0.1065,     0.10613,     0.10577,\n",
       "             0.1054,     0.10503,     0.10466,     0.10429,     0.10392,     0.10356,     0.10319,     0.10282,     0.10245,     0.10208,     0.10171,     0.10134,     0.10098,     0.10061,     0.10024,     0.09987,    0.099502,    0.099133,    0.098764,    0.098396,    0.098027,    0.097659,     0.09729,\n",
       "           0.096922,    0.096553,    0.096185,    0.095816,    0.095448,    0.095079,    0.094711,    0.094342,    0.093974,    0.093605,    0.093237,    0.092868,      0.0925,    0.092131,    0.091763,    0.091394,    0.091025,    0.090657,    0.090288,     0.08992,    0.089551,    0.089183,    0.088814,\n",
       "           0.088446,    0.088077,    0.087709,     0.08734,    0.086972,    0.086603,    0.086235,    0.085866,    0.085498,    0.085129,    0.084761,    0.084392,    0.084023,    0.083655,    0.083286,    0.082918,    0.082549,    0.082181,    0.081812,    0.081444,    0.081075,    0.080707,    0.080338,\n",
       "            0.07997,    0.079601,    0.079233,    0.078864,    0.078496,    0.078127,    0.077759,     0.07739,    0.077022,    0.076653,    0.076284,    0.075916,    0.075547,    0.075179,     0.07481,    0.074442,    0.074073,    0.073705,    0.073336,    0.072968,    0.072599,    0.072231,    0.071862,\n",
       "           0.071494,    0.071125,    0.070757,    0.070388,     0.07002,    0.069651,    0.069283,    0.068914,    0.068545,    0.068177,    0.067808,     0.06744,    0.067071,    0.066703,    0.066334,    0.065966,    0.065597,    0.065229,     0.06486,    0.064492,    0.064123,    0.063755,    0.063386,\n",
       "           0.063018,    0.062649,    0.062281,    0.061912,    0.061544,    0.061175,    0.060806,    0.060438,    0.060069,    0.059701,    0.059332,    0.058964,    0.058595,    0.058227,    0.057858,     0.05749,    0.057121,    0.056753,    0.056384,    0.056016,    0.055647,    0.055279,     0.05491,\n",
       "           0.054542,    0.054173,    0.053805,    0.053436,    0.053067,    0.052699,     0.05233,    0.051962,    0.051593,    0.051225,    0.050856,    0.050488,    0.050119,    0.049751,    0.049382,    0.049014,    0.048645,    0.048277,    0.047908,     0.04754,    0.047171,    0.046803,    0.046434,\n",
       "           0.046066,    0.045697,    0.045328,     0.04496,    0.044591,    0.044223,    0.043854,    0.043486,    0.043117,    0.042749,     0.04238,    0.042012,    0.041643,    0.041275,    0.040906,    0.040538,    0.040169,    0.039801,    0.039432,    0.039064,    0.038695,    0.038327,    0.037958,\n",
       "           0.037589,    0.037221,    0.036852,    0.036484,    0.036115,    0.035747,    0.035378,     0.03501,    0.034641,    0.034273,    0.033904,    0.033536,    0.033167,    0.032799,     0.03243,    0.032062,    0.031693,    0.031325,    0.030956,    0.030588,    0.030219,     0.02985,    0.029482,\n",
       "           0.029113,    0.028745,    0.028376,    0.028008,    0.027639,    0.027271,    0.026902,    0.026534,    0.026165,    0.025797,    0.025428,     0.02506,    0.024691,    0.024323,    0.023954,    0.023586,    0.023217,    0.022848,     0.02248,    0.022111,    0.021743,    0.021374,    0.021006,\n",
       "           0.020637,    0.020269,      0.0199,    0.019532,    0.019163,    0.018795,    0.018426,    0.018058,    0.017689,    0.017321,    0.016952,    0.016584,    0.016215,    0.015847,    0.015478,    0.015109,    0.014741,    0.014372,    0.014004,    0.013635,    0.013267,    0.012898,     0.01253,\n",
       "           0.012161,    0.011793,    0.011424,    0.011056,    0.010687,    0.010319,   0.0099502,   0.0095816,   0.0092131,   0.0088446,   0.0084761,   0.0081075,    0.007739,   0.0073705,    0.007002,   0.0066334,   0.0062649,   0.0058964,   0.0055279,   0.0051593,   0.0047908,   0.0044223,   0.0040538,\n",
       "          0.0036852,   0.0033167,   0.0029482,   0.0025797,   0.0022111,   0.0018426,   0.0014741,   0.0011056,  0.00073705,  0.00036852,           0]]), 'Recall', 'Precision'], [array([          0,    0.001001,    0.002002,    0.003003,    0.004004,    0.005005,    0.006006,    0.007007,    0.008008,    0.009009,     0.01001,    0.011011,    0.012012,    0.013013,    0.014014,    0.015015,    0.016016,    0.017017,    0.018018,    0.019019,     0.02002,    0.021021,    0.022022,    0.023023,\n",
       "          0.024024,    0.025025,    0.026026,    0.027027,    0.028028,    0.029029,     0.03003,    0.031031,    0.032032,    0.033033,    0.034034,    0.035035,    0.036036,    0.037037,    0.038038,    0.039039,     0.04004,    0.041041,    0.042042,    0.043043,    0.044044,    0.045045,    0.046046,    0.047047,\n",
       "          0.048048,    0.049049,     0.05005,    0.051051,    0.052052,    0.053053,    0.054054,    0.055055,    0.056056,    0.057057,    0.058058,    0.059059,     0.06006,    0.061061,    0.062062,    0.063063,    0.064064,    0.065065,    0.066066,    0.067067,    0.068068,    0.069069,     0.07007,    0.071071,\n",
       "          0.072072,    0.073073,    0.074074,    0.075075,    0.076076,    0.077077,    0.078078,    0.079079,     0.08008,    0.081081,    0.082082,    0.083083,    0.084084,    0.085085,    0.086086,    0.087087,    0.088088,    0.089089,     0.09009,    0.091091,    0.092092,    0.093093,    0.094094,    0.095095,\n",
       "          0.096096,    0.097097,    0.098098,    0.099099,      0.1001,      0.1011,      0.1021,      0.1031,      0.1041,     0.10511,     0.10611,     0.10711,     0.10811,     0.10911,     0.11011,     0.11111,     0.11211,     0.11311,     0.11411,     0.11512,     0.11612,     0.11712,     0.11812,     0.11912,\n",
       "           0.12012,     0.12112,     0.12212,     0.12312,     0.12412,     0.12513,     0.12613,     0.12713,     0.12813,     0.12913,     0.13013,     0.13113,     0.13213,     0.13313,     0.13413,     0.13514,     0.13614,     0.13714,     0.13814,     0.13914,     0.14014,     0.14114,     0.14214,     0.14314,\n",
       "           0.14414,     0.14515,     0.14615,     0.14715,     0.14815,     0.14915,     0.15015,     0.15115,     0.15215,     0.15315,     0.15415,     0.15516,     0.15616,     0.15716,     0.15816,     0.15916,     0.16016,     0.16116,     0.16216,     0.16316,     0.16416,     0.16517,     0.16617,     0.16717,\n",
       "           0.16817,     0.16917,     0.17017,     0.17117,     0.17217,     0.17317,     0.17417,     0.17518,     0.17618,     0.17718,     0.17818,     0.17918,     0.18018,     0.18118,     0.18218,     0.18318,     0.18418,     0.18519,     0.18619,     0.18719,     0.18819,     0.18919,     0.19019,     0.19119,\n",
       "           0.19219,     0.19319,     0.19419,      0.1952,      0.1962,      0.1972,      0.1982,      0.1992,      0.2002,      0.2012,      0.2022,      0.2032,      0.2042,     0.20521,     0.20621,     0.20721,     0.20821,     0.20921,     0.21021,     0.21121,     0.21221,     0.21321,     0.21421,     0.21522,\n",
       "           0.21622,     0.21722,     0.21822,     0.21922,     0.22022,     0.22122,     0.22222,     0.22322,     0.22422,     0.22523,     0.22623,     0.22723,     0.22823,     0.22923,     0.23023,     0.23123,     0.23223,     0.23323,     0.23423,     0.23524,     0.23624,     0.23724,     0.23824,     0.23924,\n",
       "           0.24024,     0.24124,     0.24224,     0.24324,     0.24424,     0.24525,     0.24625,     0.24725,     0.24825,     0.24925,     0.25025,     0.25125,     0.25225,     0.25325,     0.25425,     0.25526,     0.25626,     0.25726,     0.25826,     0.25926,     0.26026,     0.26126,     0.26226,     0.26326,\n",
       "           0.26426,     0.26527,     0.26627,     0.26727,     0.26827,     0.26927,     0.27027,     0.27127,     0.27227,     0.27327,     0.27427,     0.27528,     0.27628,     0.27728,     0.27828,     0.27928,     0.28028,     0.28128,     0.28228,     0.28328,     0.28428,     0.28529,     0.28629,     0.28729,\n",
       "           0.28829,     0.28929,     0.29029,     0.29129,     0.29229,     0.29329,     0.29429,      0.2953,      0.2963,      0.2973,      0.2983,      0.2993,      0.3003,      0.3013,      0.3023,      0.3033,      0.3043,     0.30531,     0.30631,     0.30731,     0.30831,     0.30931,     0.31031,     0.31131,\n",
       "           0.31231,     0.31331,     0.31431,     0.31532,     0.31632,     0.31732,     0.31832,     0.31932,     0.32032,     0.32132,     0.32232,     0.32332,     0.32432,     0.32533,     0.32633,     0.32733,     0.32833,     0.32933,     0.33033,     0.33133,     0.33233,     0.33333,     0.33433,     0.33534,\n",
       "           0.33634,     0.33734,     0.33834,     0.33934,     0.34034,     0.34134,     0.34234,     0.34334,     0.34434,     0.34535,     0.34635,     0.34735,     0.34835,     0.34935,     0.35035,     0.35135,     0.35235,     0.35335,     0.35435,     0.35536,     0.35636,     0.35736,     0.35836,     0.35936,\n",
       "           0.36036,     0.36136,     0.36236,     0.36336,     0.36436,     0.36537,     0.36637,     0.36737,     0.36837,     0.36937,     0.37037,     0.37137,     0.37237,     0.37337,     0.37437,     0.37538,     0.37638,     0.37738,     0.37838,     0.37938,     0.38038,     0.38138,     0.38238,     0.38338,\n",
       "           0.38438,     0.38539,     0.38639,     0.38739,     0.38839,     0.38939,     0.39039,     0.39139,     0.39239,     0.39339,     0.39439,      0.3954,      0.3964,      0.3974,      0.3984,      0.3994,      0.4004,      0.4014,      0.4024,      0.4034,      0.4044,     0.40541,     0.40641,     0.40741,\n",
       "           0.40841,     0.40941,     0.41041,     0.41141,     0.41241,     0.41341,     0.41441,     0.41542,     0.41642,     0.41742,     0.41842,     0.41942,     0.42042,     0.42142,     0.42242,     0.42342,     0.42442,     0.42543,     0.42643,     0.42743,     0.42843,     0.42943,     0.43043,     0.43143,\n",
       "           0.43243,     0.43343,     0.43443,     0.43544,     0.43644,     0.43744,     0.43844,     0.43944,     0.44044,     0.44144,     0.44244,     0.44344,     0.44444,     0.44545,     0.44645,     0.44745,     0.44845,     0.44945,     0.45045,     0.45145,     0.45245,     0.45345,     0.45445,     0.45546,\n",
       "           0.45646,     0.45746,     0.45846,     0.45946,     0.46046,     0.46146,     0.46246,     0.46346,     0.46446,     0.46547,     0.46647,     0.46747,     0.46847,     0.46947,     0.47047,     0.47147,     0.47247,     0.47347,     0.47447,     0.47548,     0.47648,     0.47748,     0.47848,     0.47948,\n",
       "           0.48048,     0.48148,     0.48248,     0.48348,     0.48448,     0.48549,     0.48649,     0.48749,     0.48849,     0.48949,     0.49049,     0.49149,     0.49249,     0.49349,     0.49449,      0.4955,      0.4965,      0.4975,      0.4985,      0.4995,      0.5005,      0.5015,      0.5025,      0.5035,\n",
       "            0.5045,     0.50551,     0.50651,     0.50751,     0.50851,     0.50951,     0.51051,     0.51151,     0.51251,     0.51351,     0.51451,     0.51552,     0.51652,     0.51752,     0.51852,     0.51952,     0.52052,     0.52152,     0.52252,     0.52352,     0.52452,     0.52553,     0.52653,     0.52753,\n",
       "           0.52853,     0.52953,     0.53053,     0.53153,     0.53253,     0.53353,     0.53453,     0.53554,     0.53654,     0.53754,     0.53854,     0.53954,     0.54054,     0.54154,     0.54254,     0.54354,     0.54454,     0.54555,     0.54655,     0.54755,     0.54855,     0.54955,     0.55055,     0.55155,\n",
       "           0.55255,     0.55355,     0.55455,     0.55556,     0.55656,     0.55756,     0.55856,     0.55956,     0.56056,     0.56156,     0.56256,     0.56356,     0.56456,     0.56557,     0.56657,     0.56757,     0.56857,     0.56957,     0.57057,     0.57157,     0.57257,     0.57357,     0.57457,     0.57558,\n",
       "           0.57658,     0.57758,     0.57858,     0.57958,     0.58058,     0.58158,     0.58258,     0.58358,     0.58458,     0.58559,     0.58659,     0.58759,     0.58859,     0.58959,     0.59059,     0.59159,     0.59259,     0.59359,     0.59459,      0.5956,      0.5966,      0.5976,      0.5986,      0.5996,\n",
       "            0.6006,      0.6016,      0.6026,      0.6036,      0.6046,     0.60561,     0.60661,     0.60761,     0.60861,     0.60961,     0.61061,     0.61161,     0.61261,     0.61361,     0.61461,     0.61562,     0.61662,     0.61762,     0.61862,     0.61962,     0.62062,     0.62162,     0.62262,     0.62362,\n",
       "           0.62462,     0.62563,     0.62663,     0.62763,     0.62863,     0.62963,     0.63063,     0.63163,     0.63263,     0.63363,     0.63463,     0.63564,     0.63664,     0.63764,     0.63864,     0.63964,     0.64064,     0.64164,     0.64264,     0.64364,     0.64464,     0.64565,     0.64665,     0.64765,\n",
       "           0.64865,     0.64965,     0.65065,     0.65165,     0.65265,     0.65365,     0.65465,     0.65566,     0.65666,     0.65766,     0.65866,     0.65966,     0.66066,     0.66166,     0.66266,     0.66366,     0.66466,     0.66567,     0.66667,     0.66767,     0.66867,     0.66967,     0.67067,     0.67167,\n",
       "           0.67267,     0.67367,     0.67467,     0.67568,     0.67668,     0.67768,     0.67868,     0.67968,     0.68068,     0.68168,     0.68268,     0.68368,     0.68468,     0.68569,     0.68669,     0.68769,     0.68869,     0.68969,     0.69069,     0.69169,     0.69269,     0.69369,     0.69469,      0.6957,\n",
       "            0.6967,      0.6977,      0.6987,      0.6997,      0.7007,      0.7017,      0.7027,      0.7037,      0.7047,     0.70571,     0.70671,     0.70771,     0.70871,     0.70971,     0.71071,     0.71171,     0.71271,     0.71371,     0.71471,     0.71572,     0.71672,     0.71772,     0.71872,     0.71972,\n",
       "           0.72072,     0.72172,     0.72272,     0.72372,     0.72472,     0.72573,     0.72673,     0.72773,     0.72873,     0.72973,     0.73073,     0.73173,     0.73273,     0.73373,     0.73473,     0.73574,     0.73674,     0.73774,     0.73874,     0.73974,     0.74074,     0.74174,     0.74274,     0.74374,\n",
       "           0.74474,     0.74575,     0.74675,     0.74775,     0.74875,     0.74975,     0.75075,     0.75175,     0.75275,     0.75375,     0.75475,     0.75576,     0.75676,     0.75776,     0.75876,     0.75976,     0.76076,     0.76176,     0.76276,     0.76376,     0.76476,     0.76577,     0.76677,     0.76777,\n",
       "           0.76877,     0.76977,     0.77077,     0.77177,     0.77277,     0.77377,     0.77477,     0.77578,     0.77678,     0.77778,     0.77878,     0.77978,     0.78078,     0.78178,     0.78278,     0.78378,     0.78478,     0.78579,     0.78679,     0.78779,     0.78879,     0.78979,     0.79079,     0.79179,\n",
       "           0.79279,     0.79379,     0.79479,      0.7958,      0.7968,      0.7978,      0.7988,      0.7998,      0.8008,      0.8018,      0.8028,      0.8038,      0.8048,     0.80581,     0.80681,     0.80781,     0.80881,     0.80981,     0.81081,     0.81181,     0.81281,     0.81381,     0.81481,     0.81582,\n",
       "           0.81682,     0.81782,     0.81882,     0.81982,     0.82082,     0.82182,     0.82282,     0.82382,     0.82482,     0.82583,     0.82683,     0.82783,     0.82883,     0.82983,     0.83083,     0.83183,     0.83283,     0.83383,     0.83483,     0.83584,     0.83684,     0.83784,     0.83884,     0.83984,\n",
       "           0.84084,     0.84184,     0.84284,     0.84384,     0.84484,     0.84585,     0.84685,     0.84785,     0.84885,     0.84985,     0.85085,     0.85185,     0.85285,     0.85385,     0.85485,     0.85586,     0.85686,     0.85786,     0.85886,     0.85986,     0.86086,     0.86186,     0.86286,     0.86386,\n",
       "           0.86486,     0.86587,     0.86687,     0.86787,     0.86887,     0.86987,     0.87087,     0.87187,     0.87287,     0.87387,     0.87487,     0.87588,     0.87688,     0.87788,     0.87888,     0.87988,     0.88088,     0.88188,     0.88288,     0.88388,     0.88488,     0.88589,     0.88689,     0.88789,\n",
       "           0.88889,     0.88989,     0.89089,     0.89189,     0.89289,     0.89389,     0.89489,      0.8959,      0.8969,      0.8979,      0.8989,      0.8999,      0.9009,      0.9019,      0.9029,      0.9039,      0.9049,     0.90591,     0.90691,     0.90791,     0.90891,     0.90991,     0.91091,     0.91191,\n",
       "           0.91291,     0.91391,     0.91491,     0.91592,     0.91692,     0.91792,     0.91892,     0.91992,     0.92092,     0.92192,     0.92292,     0.92392,     0.92492,     0.92593,     0.92693,     0.92793,     0.92893,     0.92993,     0.93093,     0.93193,     0.93293,     0.93393,     0.93493,     0.93594,\n",
       "           0.93694,     0.93794,     0.93894,     0.93994,     0.94094,     0.94194,     0.94294,     0.94394,     0.94494,     0.94595,     0.94695,     0.94795,     0.94895,     0.94995,     0.95095,     0.95195,     0.95295,     0.95395,     0.95495,     0.95596,     0.95696,     0.95796,     0.95896,     0.95996,\n",
       "           0.96096,     0.96196,     0.96296,     0.96396,     0.96496,     0.96597,     0.96697,     0.96797,     0.96897,     0.96997,     0.97097,     0.97197,     0.97297,     0.97397,     0.97497,     0.97598,     0.97698,     0.97798,     0.97898,     0.97998,     0.98098,     0.98198,     0.98298,     0.98398,\n",
       "           0.98498,     0.98599,     0.98699,     0.98799,     0.98899,     0.98999,     0.99099,     0.99199,     0.99299,     0.99399,     0.99499,       0.996,       0.997,       0.998,       0.999,           1]), array([[    0.18759,     0.18759,     0.22965,     0.25829,     0.28061,      0.2999,     0.31593,     0.32986,     0.34303,     0.35448,     0.36507,     0.37445,     0.38348,     0.39174,     0.39995,     0.40751,     0.41439,     0.42121,     0.42763,     0.43389,     0.43991,     0.44566,     0.45119,\n",
       "            0.45651,     0.46167,     0.46653,     0.47123,     0.47578,     0.48048,     0.48467,       0.489,     0.49301,     0.49667,     0.50019,     0.50392,     0.50756,      0.5108,     0.51391,     0.51795,     0.52078,     0.52402,     0.52755,     0.53035,     0.53363,     0.53662,     0.53948,\n",
       "             0.5421,     0.54463,      0.5473,     0.54976,     0.55214,     0.55465,     0.55724,     0.55952,     0.56158,     0.56393,     0.56626,     0.56805,     0.57008,     0.57212,      0.5739,     0.57592,     0.57772,     0.57965,     0.58145,      0.5832,     0.58486,      0.5868,      0.5887,\n",
       "            0.59019,     0.59156,     0.59321,     0.59456,     0.59615,      0.5976,     0.59915,     0.60028,     0.60163,     0.60336,     0.60455,     0.60596,     0.60713,     0.60837,     0.60984,      0.6111,     0.61246,     0.61364,     0.61498,     0.61604,     0.61721,     0.61858,     0.61964,\n",
       "            0.62072,     0.62176,     0.62284,     0.62392,     0.62504,     0.62598,     0.62717,     0.62789,     0.62895,     0.62991,     0.63075,     0.63189,     0.63251,     0.63347,      0.6344,     0.63526,     0.63586,      0.6367,     0.63742,     0.63816,     0.63916,     0.63973,     0.64048,\n",
       "            0.64086,     0.64146,     0.64187,     0.64275,     0.64332,     0.64425,     0.64488,      0.6454,     0.64625,       0.647,     0.64791,     0.64835,     0.64873,     0.64957,     0.65016,     0.65042,     0.65086,     0.65175,     0.65233,      0.6529,     0.65345,     0.65377,     0.65429,\n",
       "            0.65501,     0.65523,     0.65585,     0.65636,     0.65681,      0.6571,     0.65766,     0.65838,     0.65882,     0.65926,     0.65966,        0.66,      0.6604,     0.66072,     0.66119,     0.66141,     0.66175,     0.66214,     0.66251,     0.66267,     0.66285,     0.66325,     0.66357,\n",
       "            0.66395,     0.66445,      0.6647,     0.66514,     0.66537,     0.66574,     0.66582,     0.66615,     0.66643,     0.66677,     0.66699,     0.66739,     0.66751,     0.66793,     0.66834,     0.66875,     0.66881,     0.66907,     0.66926,     0.66948,     0.66962,     0.67008,     0.67034,\n",
       "            0.67048,     0.67065,     0.67101,     0.67116,      0.6712,     0.67142,     0.67156,     0.67158,       0.672,     0.67205,     0.67207,     0.67226,     0.67251,     0.67255,     0.67258,     0.67261,     0.67259,     0.67253,     0.67268,     0.67288,     0.67296,     0.67307,     0.67315,\n",
       "            0.67329,     0.67341,      0.6735,      0.6735,     0.67356,     0.67359,     0.67368,     0.67365,     0.67361,     0.67364,     0.67377,     0.67387,     0.67396,     0.67389,     0.67391,     0.67409,     0.67409,     0.67427,     0.67446,     0.67468,      0.6747,     0.67476,     0.67483,\n",
       "            0.67483,     0.67491,     0.67498,     0.67504,     0.67515,      0.6754,     0.67539,      0.6755,     0.67553,     0.67552,     0.67553,     0.67548,     0.67558,     0.67551,     0.67543,     0.67544,     0.67549,     0.67548,     0.67542,     0.67542,     0.67542,     0.67546,     0.67533,\n",
       "            0.67503,     0.67494,     0.67478,     0.67475,     0.67485,     0.67483,      0.6748,     0.67475,     0.67473,     0.67469,     0.67469,     0.67467,     0.67466,      0.6747,     0.67485,     0.67461,     0.67455,     0.67453,     0.67446,     0.67448,     0.67442,     0.67452,     0.67448,\n",
       "            0.67433,     0.67419,     0.67406,     0.67411,     0.67389,     0.67372,     0.67364,     0.67369,     0.67367,     0.67357,     0.67335,     0.67319,     0.67305,     0.67283,     0.67244,      0.6723,     0.67224,     0.67214,     0.67206,     0.67219,     0.67217,     0.67212,     0.67205,\n",
       "            0.67185,     0.67177,     0.67174,     0.67158,     0.67145,     0.67146,     0.67134,     0.67117,     0.67097,     0.67078,     0.67069,     0.67046,     0.67015,     0.66979,     0.66964,     0.66962,     0.66957,     0.66949,     0.66938,     0.66926,     0.66871,     0.66849,     0.66834,\n",
       "            0.66823,     0.66805,     0.66778,     0.66773,     0.66768,     0.66758,     0.66748,     0.66725,     0.66666,     0.66644,     0.66634,     0.66642,     0.66622,       0.666,     0.66584,     0.66553,     0.66534,     0.66512,     0.66513,     0.66505,     0.66487,     0.66443,     0.66437,\n",
       "            0.66414,     0.66408,     0.66401,     0.66381,     0.66371,     0.66335,     0.66316,     0.66302,      0.6628,     0.66266,     0.66259,     0.66246,     0.66213,     0.66209,     0.66187,     0.66156,     0.66152,     0.66129,     0.66098,     0.66073,     0.66062,     0.66033,     0.66012,\n",
       "            0.65976,     0.65957,     0.65902,     0.65882,     0.65857,     0.65822,     0.65803,     0.65775,     0.65756,     0.65723,     0.65705,     0.65672,     0.65617,     0.65592,     0.65575,     0.65543,     0.65513,     0.65496,     0.65464,     0.65422,     0.65396,     0.65372,     0.65309,\n",
       "            0.65258,     0.65234,     0.65201,     0.65176,     0.65155,     0.65119,     0.65096,     0.65077,      0.6505,     0.65023,     0.65007,     0.64986,      0.6497,     0.64946,     0.64927,     0.64905,      0.6485,     0.64825,       0.648,     0.64758,     0.64737,     0.64699,     0.64661,\n",
       "            0.64616,     0.64588,     0.64556,     0.64537,     0.64511,     0.64476,     0.64452,     0.64431,     0.64404,     0.64323,     0.64297,     0.64267,     0.64252,     0.64216,     0.64189,     0.64148,     0.64113,     0.64082,     0.64053,     0.64026,     0.63988,     0.63976,     0.63948,\n",
       "            0.63928,     0.63895,     0.63858,     0.63822,     0.63762,     0.63729,     0.63706,     0.63668,     0.63627,     0.63599,     0.63566,      0.6352,     0.63485,     0.63419,     0.63388,     0.63376,     0.63335,     0.63292,     0.63262,     0.63224,      0.6319,     0.63155,     0.63121,\n",
       "            0.63093,     0.63061,     0.63033,     0.62995,     0.62964,     0.62925,     0.62883,     0.62851,     0.62817,     0.62783,     0.62745,     0.62711,     0.62664,     0.62633,      0.6258,     0.62551,     0.62522,     0.62505,     0.62475,     0.62444,     0.62346,     0.62317,     0.62262,\n",
       "            0.62209,     0.62166,     0.62128,     0.62086,      0.6204,     0.61999,     0.61954,     0.61904,      0.6187,       0.618,     0.61765,     0.61705,     0.61651,     0.61609,     0.61544,      0.6151,     0.61463,     0.61413,     0.61366,     0.61325,     0.61271,     0.61215,     0.61167,\n",
       "            0.61112,     0.61052,      0.6101,     0.60967,     0.60916,     0.60865,     0.60806,     0.60764,     0.60703,      0.6066,     0.60632,     0.60585,      0.6054,     0.60504,     0.60405,      0.6036,     0.60294,     0.60254,     0.60215,     0.60164,     0.60119,     0.60052,     0.59999,\n",
       "            0.59947,     0.59896,     0.59844,     0.59799,     0.59726,      0.5968,     0.59625,     0.59571,     0.59503,      0.5948,     0.59448,     0.59405,     0.59334,     0.59248,     0.59194,     0.59132,     0.59107,     0.59047,     0.59007,     0.58956,     0.58891,     0.58833,     0.58769,\n",
       "            0.58707,     0.58656,     0.58603,     0.58555,     0.58497,     0.58393,     0.58342,     0.58297,     0.58251,     0.58194,     0.58153,     0.58091,     0.58062,        0.58,     0.57929,     0.57858,       0.578,     0.57744,     0.57695,      0.5762,     0.57568,     0.57521,     0.57484,\n",
       "            0.57437,     0.57379,     0.57336,     0.57278,     0.57214,     0.57054,     0.56982,     0.56899,     0.56856,     0.56799,     0.56756,     0.56694,      0.5665,      0.5659,     0.56536,     0.56466,     0.56402,     0.56342,     0.56272,     0.56169,     0.56166,     0.56018,     0.55877,\n",
       "            0.55869,     0.55748,     0.55743,     0.55609,      0.5561,     0.55523,     0.55517,      0.5542,     0.55415,     0.55262,     0.55131,     0.55127,     0.54984,     0.54975,     0.54859,     0.54847,     0.54733,     0.54731,     0.54601,     0.54597,      0.5445,     0.54442,     0.54317,\n",
       "            0.54187,     0.54179,     0.54039,     0.54031,     0.53855,     0.53848,     0.53717,     0.53702,     0.53582,     0.53576,     0.53436,     0.53296,     0.53286,      0.5317,     0.53159,     0.53027,     0.53023,     0.52896,     0.52885,     0.52723,     0.52616,     0.52612,     0.52446,\n",
       "            0.52434,     0.52249,     0.52247,     0.52137,     0.52123,     0.52021,     0.51913,     0.51907,     0.51794,     0.51792,     0.51684,     0.51681,     0.51543,      0.5154,     0.51391,     0.51229,     0.51219,     0.51061,     0.50895,     0.50887,     0.50728,     0.50714,     0.50547,\n",
       "            0.50535,     0.50376,     0.50367,     0.50234,     0.50087,     0.50075,     0.49946,      0.4994,     0.49798,     0.49796,     0.49636,     0.49463,     0.49455,     0.49309,     0.49182,     0.49167,     0.49008,     0.48995,     0.48791,     0.48779,     0.48575,     0.48418,     0.48406,\n",
       "            0.48237,     0.48228,      0.4807,     0.47838,     0.47815,     0.47617,     0.47602,     0.47418,     0.47259,     0.47241,     0.47066,      0.4689,     0.46884,     0.46716,     0.46714,     0.46509,      0.4633,     0.46315,     0.46178,     0.46166,     0.46021,     0.45819,     0.45812,\n",
       "            0.45623,     0.45614,     0.45441,     0.45233,     0.45218,     0.45043,     0.44881,     0.44872,     0.44676,     0.44501,      0.4449,      0.4431,     0.44072,     0.44062,     0.43818,     0.43602,      0.4359,     0.43396,     0.43389,     0.43162,     0.42898,     0.42895,     0.42671,\n",
       "            0.42383,     0.42376,      0.4216,     0.41928,      0.4174,     0.41724,     0.41502,     0.41498,     0.41274,     0.40977,     0.40975,     0.40705,     0.40413,     0.40411,     0.40167,     0.39906,     0.39904,      0.3963,     0.39309,     0.39307,     0.39007,     0.38721,     0.38443,\n",
       "             0.3844,      0.3818,     0.37883,     0.37584,     0.37582,     0.37247,     0.36934,     0.36932,     0.36637,     0.36301,     0.35977,     0.35973,     0.35649,     0.35372,     0.35368,     0.35005,     0.34673,     0.34671,     0.34315,     0.33974,     0.33638,     0.33273,     0.33271,\n",
       "            0.32906,     0.32556,     0.32167,     0.32162,     0.31707,     0.31314,     0.30931,     0.30929,     0.30528,      0.3009,      0.2972,     0.29718,     0.29304,     0.28903,     0.28448,      0.2803,     0.28028,     0.27652,     0.27249,     0.26829,     0.26436,     0.25976,      0.2597,\n",
       "             0.2548,     0.24947,     0.24342,     0.23844,     0.23841,     0.23297,     0.22887,     0.22271,     0.21764,      0.2122,     0.21217,     0.20773,     0.20203,     0.19629,     0.19123,     0.18594,     0.18053,     0.17513,     0.16978,     0.16972,       0.165,     0.15951,     0.15425,\n",
       "            0.14956,     0.14418,     0.13897,     0.13494,     0.13491,     0.13088,     0.12734,     0.12331,     0.12016,     0.11638,     0.11275,     0.10893,     0.10561,     0.10157,     0.09887,    0.095741,     0.09226,    0.089771,    0.086835,    0.084516,    0.081828,    0.078854,    0.076582,\n",
       "           0.073579,    0.070627,    0.068276,    0.065448,    0.063198,    0.060242,    0.057887,    0.055865,    0.053716,    0.049648,    0.047872,      0.0458,     0.04416,    0.042904,    0.041645,    0.040337,    0.038736,    0.037702,    0.036548,    0.035281,    0.033857,    0.031344,    0.030023,\n",
       "           0.029043,    0.028092,    0.027007,    0.026122,    0.024942,      0.0228,    0.021665,    0.020553,    0.019959,    0.019014,     0.01825,    0.017606,    0.015894,    0.015337,    0.014775,    0.013829,    0.012311,    0.011996,    0.011586,    0.010912,    0.010543,    0.010086,   0.0090116,\n",
       "          0.0084883,   0.0081345,    0.007358,   0.0065296,    0.006254,   0.0055261,   0.0054197,    0.004972,   0.0047627,   0.0044928,   0.0041554,   0.0040386,   0.0033971,   0.0030063,    0.002789,   0.0024005,   0.0022309,   0.0018259,   0.0016673,   0.0014182,   0.0011136,  0.00095868,   0.0008568,\n",
       "         0.00073829,  0.00070064,  0.00063586,  0.00060144,  0.00056701,   0.0005217,  0.00044486,  0.00034781,  0.00032198,   0.0002899,  0.00022447,  0.00013972,  0.00012496,   0.0001102,  9.3286e-05,  7.2619e-05,  5.1952e-05,           0,           0,           0,           0,           0,           0,\n",
       "                  0,           0,           0,           0,           0,           0,           0,           0,           0,           0,           0,           0,           0,           0,           0,           0,           0,           0,           0,           0,           0,           0,           0,\n",
       "                  0,           0,           0,           0,           0,           0,           0,           0,           0,           0,           0,           0,           0,           0,           0,           0,           0,           0,           0,           0,           0,           0,           0,\n",
       "                  0,           0,           0,           0,           0,           0,           0,           0,           0,           0,           0]]), 'Confidence', 'F1'], [array([          0,    0.001001,    0.002002,    0.003003,    0.004004,    0.005005,    0.006006,    0.007007,    0.008008,    0.009009,     0.01001,    0.011011,    0.012012,    0.013013,    0.014014,    0.015015,    0.016016,    0.017017,    0.018018,    0.019019,     0.02002,    0.021021,    0.022022,    0.023023,\n",
       "          0.024024,    0.025025,    0.026026,    0.027027,    0.028028,    0.029029,     0.03003,    0.031031,    0.032032,    0.033033,    0.034034,    0.035035,    0.036036,    0.037037,    0.038038,    0.039039,     0.04004,    0.041041,    0.042042,    0.043043,    0.044044,    0.045045,    0.046046,    0.047047,\n",
       "          0.048048,    0.049049,     0.05005,    0.051051,    0.052052,    0.053053,    0.054054,    0.055055,    0.056056,    0.057057,    0.058058,    0.059059,     0.06006,    0.061061,    0.062062,    0.063063,    0.064064,    0.065065,    0.066066,    0.067067,    0.068068,    0.069069,     0.07007,    0.071071,\n",
       "          0.072072,    0.073073,    0.074074,    0.075075,    0.076076,    0.077077,    0.078078,    0.079079,     0.08008,    0.081081,    0.082082,    0.083083,    0.084084,    0.085085,    0.086086,    0.087087,    0.088088,    0.089089,     0.09009,    0.091091,    0.092092,    0.093093,    0.094094,    0.095095,\n",
       "          0.096096,    0.097097,    0.098098,    0.099099,      0.1001,      0.1011,      0.1021,      0.1031,      0.1041,     0.10511,     0.10611,     0.10711,     0.10811,     0.10911,     0.11011,     0.11111,     0.11211,     0.11311,     0.11411,     0.11512,     0.11612,     0.11712,     0.11812,     0.11912,\n",
       "           0.12012,     0.12112,     0.12212,     0.12312,     0.12412,     0.12513,     0.12613,     0.12713,     0.12813,     0.12913,     0.13013,     0.13113,     0.13213,     0.13313,     0.13413,     0.13514,     0.13614,     0.13714,     0.13814,     0.13914,     0.14014,     0.14114,     0.14214,     0.14314,\n",
       "           0.14414,     0.14515,     0.14615,     0.14715,     0.14815,     0.14915,     0.15015,     0.15115,     0.15215,     0.15315,     0.15415,     0.15516,     0.15616,     0.15716,     0.15816,     0.15916,     0.16016,     0.16116,     0.16216,     0.16316,     0.16416,     0.16517,     0.16617,     0.16717,\n",
       "           0.16817,     0.16917,     0.17017,     0.17117,     0.17217,     0.17317,     0.17417,     0.17518,     0.17618,     0.17718,     0.17818,     0.17918,     0.18018,     0.18118,     0.18218,     0.18318,     0.18418,     0.18519,     0.18619,     0.18719,     0.18819,     0.18919,     0.19019,     0.19119,\n",
       "           0.19219,     0.19319,     0.19419,      0.1952,      0.1962,      0.1972,      0.1982,      0.1992,      0.2002,      0.2012,      0.2022,      0.2032,      0.2042,     0.20521,     0.20621,     0.20721,     0.20821,     0.20921,     0.21021,     0.21121,     0.21221,     0.21321,     0.21421,     0.21522,\n",
       "           0.21622,     0.21722,     0.21822,     0.21922,     0.22022,     0.22122,     0.22222,     0.22322,     0.22422,     0.22523,     0.22623,     0.22723,     0.22823,     0.22923,     0.23023,     0.23123,     0.23223,     0.23323,     0.23423,     0.23524,     0.23624,     0.23724,     0.23824,     0.23924,\n",
       "           0.24024,     0.24124,     0.24224,     0.24324,     0.24424,     0.24525,     0.24625,     0.24725,     0.24825,     0.24925,     0.25025,     0.25125,     0.25225,     0.25325,     0.25425,     0.25526,     0.25626,     0.25726,     0.25826,     0.25926,     0.26026,     0.26126,     0.26226,     0.26326,\n",
       "           0.26426,     0.26527,     0.26627,     0.26727,     0.26827,     0.26927,     0.27027,     0.27127,     0.27227,     0.27327,     0.27427,     0.27528,     0.27628,     0.27728,     0.27828,     0.27928,     0.28028,     0.28128,     0.28228,     0.28328,     0.28428,     0.28529,     0.28629,     0.28729,\n",
       "           0.28829,     0.28929,     0.29029,     0.29129,     0.29229,     0.29329,     0.29429,      0.2953,      0.2963,      0.2973,      0.2983,      0.2993,      0.3003,      0.3013,      0.3023,      0.3033,      0.3043,     0.30531,     0.30631,     0.30731,     0.30831,     0.30931,     0.31031,     0.31131,\n",
       "           0.31231,     0.31331,     0.31431,     0.31532,     0.31632,     0.31732,     0.31832,     0.31932,     0.32032,     0.32132,     0.32232,     0.32332,     0.32432,     0.32533,     0.32633,     0.32733,     0.32833,     0.32933,     0.33033,     0.33133,     0.33233,     0.33333,     0.33433,     0.33534,\n",
       "           0.33634,     0.33734,     0.33834,     0.33934,     0.34034,     0.34134,     0.34234,     0.34334,     0.34434,     0.34535,     0.34635,     0.34735,     0.34835,     0.34935,     0.35035,     0.35135,     0.35235,     0.35335,     0.35435,     0.35536,     0.35636,     0.35736,     0.35836,     0.35936,\n",
       "           0.36036,     0.36136,     0.36236,     0.36336,     0.36436,     0.36537,     0.36637,     0.36737,     0.36837,     0.36937,     0.37037,     0.37137,     0.37237,     0.37337,     0.37437,     0.37538,     0.37638,     0.37738,     0.37838,     0.37938,     0.38038,     0.38138,     0.38238,     0.38338,\n",
       "           0.38438,     0.38539,     0.38639,     0.38739,     0.38839,     0.38939,     0.39039,     0.39139,     0.39239,     0.39339,     0.39439,      0.3954,      0.3964,      0.3974,      0.3984,      0.3994,      0.4004,      0.4014,      0.4024,      0.4034,      0.4044,     0.40541,     0.40641,     0.40741,\n",
       "           0.40841,     0.40941,     0.41041,     0.41141,     0.41241,     0.41341,     0.41441,     0.41542,     0.41642,     0.41742,     0.41842,     0.41942,     0.42042,     0.42142,     0.42242,     0.42342,     0.42442,     0.42543,     0.42643,     0.42743,     0.42843,     0.42943,     0.43043,     0.43143,\n",
       "           0.43243,     0.43343,     0.43443,     0.43544,     0.43644,     0.43744,     0.43844,     0.43944,     0.44044,     0.44144,     0.44244,     0.44344,     0.44444,     0.44545,     0.44645,     0.44745,     0.44845,     0.44945,     0.45045,     0.45145,     0.45245,     0.45345,     0.45445,     0.45546,\n",
       "           0.45646,     0.45746,     0.45846,     0.45946,     0.46046,     0.46146,     0.46246,     0.46346,     0.46446,     0.46547,     0.46647,     0.46747,     0.46847,     0.46947,     0.47047,     0.47147,     0.47247,     0.47347,     0.47447,     0.47548,     0.47648,     0.47748,     0.47848,     0.47948,\n",
       "           0.48048,     0.48148,     0.48248,     0.48348,     0.48448,     0.48549,     0.48649,     0.48749,     0.48849,     0.48949,     0.49049,     0.49149,     0.49249,     0.49349,     0.49449,      0.4955,      0.4965,      0.4975,      0.4985,      0.4995,      0.5005,      0.5015,      0.5025,      0.5035,\n",
       "            0.5045,     0.50551,     0.50651,     0.50751,     0.50851,     0.50951,     0.51051,     0.51151,     0.51251,     0.51351,     0.51451,     0.51552,     0.51652,     0.51752,     0.51852,     0.51952,     0.52052,     0.52152,     0.52252,     0.52352,     0.52452,     0.52553,     0.52653,     0.52753,\n",
       "           0.52853,     0.52953,     0.53053,     0.53153,     0.53253,     0.53353,     0.53453,     0.53554,     0.53654,     0.53754,     0.53854,     0.53954,     0.54054,     0.54154,     0.54254,     0.54354,     0.54454,     0.54555,     0.54655,     0.54755,     0.54855,     0.54955,     0.55055,     0.55155,\n",
       "           0.55255,     0.55355,     0.55455,     0.55556,     0.55656,     0.55756,     0.55856,     0.55956,     0.56056,     0.56156,     0.56256,     0.56356,     0.56456,     0.56557,     0.56657,     0.56757,     0.56857,     0.56957,     0.57057,     0.57157,     0.57257,     0.57357,     0.57457,     0.57558,\n",
       "           0.57658,     0.57758,     0.57858,     0.57958,     0.58058,     0.58158,     0.58258,     0.58358,     0.58458,     0.58559,     0.58659,     0.58759,     0.58859,     0.58959,     0.59059,     0.59159,     0.59259,     0.59359,     0.59459,      0.5956,      0.5966,      0.5976,      0.5986,      0.5996,\n",
       "            0.6006,      0.6016,      0.6026,      0.6036,      0.6046,     0.60561,     0.60661,     0.60761,     0.60861,     0.60961,     0.61061,     0.61161,     0.61261,     0.61361,     0.61461,     0.61562,     0.61662,     0.61762,     0.61862,     0.61962,     0.62062,     0.62162,     0.62262,     0.62362,\n",
       "           0.62462,     0.62563,     0.62663,     0.62763,     0.62863,     0.62963,     0.63063,     0.63163,     0.63263,     0.63363,     0.63463,     0.63564,     0.63664,     0.63764,     0.63864,     0.63964,     0.64064,     0.64164,     0.64264,     0.64364,     0.64464,     0.64565,     0.64665,     0.64765,\n",
       "           0.64865,     0.64965,     0.65065,     0.65165,     0.65265,     0.65365,     0.65465,     0.65566,     0.65666,     0.65766,     0.65866,     0.65966,     0.66066,     0.66166,     0.66266,     0.66366,     0.66466,     0.66567,     0.66667,     0.66767,     0.66867,     0.66967,     0.67067,     0.67167,\n",
       "           0.67267,     0.67367,     0.67467,     0.67568,     0.67668,     0.67768,     0.67868,     0.67968,     0.68068,     0.68168,     0.68268,     0.68368,     0.68468,     0.68569,     0.68669,     0.68769,     0.68869,     0.68969,     0.69069,     0.69169,     0.69269,     0.69369,     0.69469,      0.6957,\n",
       "            0.6967,      0.6977,      0.6987,      0.6997,      0.7007,      0.7017,      0.7027,      0.7037,      0.7047,     0.70571,     0.70671,     0.70771,     0.70871,     0.70971,     0.71071,     0.71171,     0.71271,     0.71371,     0.71471,     0.71572,     0.71672,     0.71772,     0.71872,     0.71972,\n",
       "           0.72072,     0.72172,     0.72272,     0.72372,     0.72472,     0.72573,     0.72673,     0.72773,     0.72873,     0.72973,     0.73073,     0.73173,     0.73273,     0.73373,     0.73473,     0.73574,     0.73674,     0.73774,     0.73874,     0.73974,     0.74074,     0.74174,     0.74274,     0.74374,\n",
       "           0.74474,     0.74575,     0.74675,     0.74775,     0.74875,     0.74975,     0.75075,     0.75175,     0.75275,     0.75375,     0.75475,     0.75576,     0.75676,     0.75776,     0.75876,     0.75976,     0.76076,     0.76176,     0.76276,     0.76376,     0.76476,     0.76577,     0.76677,     0.76777,\n",
       "           0.76877,     0.76977,     0.77077,     0.77177,     0.77277,     0.77377,     0.77477,     0.77578,     0.77678,     0.77778,     0.77878,     0.77978,     0.78078,     0.78178,     0.78278,     0.78378,     0.78478,     0.78579,     0.78679,     0.78779,     0.78879,     0.78979,     0.79079,     0.79179,\n",
       "           0.79279,     0.79379,     0.79479,      0.7958,      0.7968,      0.7978,      0.7988,      0.7998,      0.8008,      0.8018,      0.8028,      0.8038,      0.8048,     0.80581,     0.80681,     0.80781,     0.80881,     0.80981,     0.81081,     0.81181,     0.81281,     0.81381,     0.81481,     0.81582,\n",
       "           0.81682,     0.81782,     0.81882,     0.81982,     0.82082,     0.82182,     0.82282,     0.82382,     0.82482,     0.82583,     0.82683,     0.82783,     0.82883,     0.82983,     0.83083,     0.83183,     0.83283,     0.83383,     0.83483,     0.83584,     0.83684,     0.83784,     0.83884,     0.83984,\n",
       "           0.84084,     0.84184,     0.84284,     0.84384,     0.84484,     0.84585,     0.84685,     0.84785,     0.84885,     0.84985,     0.85085,     0.85185,     0.85285,     0.85385,     0.85485,     0.85586,     0.85686,     0.85786,     0.85886,     0.85986,     0.86086,     0.86186,     0.86286,     0.86386,\n",
       "           0.86486,     0.86587,     0.86687,     0.86787,     0.86887,     0.86987,     0.87087,     0.87187,     0.87287,     0.87387,     0.87487,     0.87588,     0.87688,     0.87788,     0.87888,     0.87988,     0.88088,     0.88188,     0.88288,     0.88388,     0.88488,     0.88589,     0.88689,     0.88789,\n",
       "           0.88889,     0.88989,     0.89089,     0.89189,     0.89289,     0.89389,     0.89489,      0.8959,      0.8969,      0.8979,      0.8989,      0.8999,      0.9009,      0.9019,      0.9029,      0.9039,      0.9049,     0.90591,     0.90691,     0.90791,     0.90891,     0.90991,     0.91091,     0.91191,\n",
       "           0.91291,     0.91391,     0.91491,     0.91592,     0.91692,     0.91792,     0.91892,     0.91992,     0.92092,     0.92192,     0.92292,     0.92392,     0.92492,     0.92593,     0.92693,     0.92793,     0.92893,     0.92993,     0.93093,     0.93193,     0.93293,     0.93393,     0.93493,     0.93594,\n",
       "           0.93694,     0.93794,     0.93894,     0.93994,     0.94094,     0.94194,     0.94294,     0.94394,     0.94494,     0.94595,     0.94695,     0.94795,     0.94895,     0.94995,     0.95095,     0.95195,     0.95295,     0.95395,     0.95495,     0.95596,     0.95696,     0.95796,     0.95896,     0.95996,\n",
       "           0.96096,     0.96196,     0.96296,     0.96396,     0.96496,     0.96597,     0.96697,     0.96797,     0.96897,     0.96997,     0.97097,     0.97197,     0.97297,     0.97397,     0.97497,     0.97598,     0.97698,     0.97798,     0.97898,     0.97998,     0.98098,     0.98198,     0.98298,     0.98398,\n",
       "           0.98498,     0.98599,     0.98699,     0.98799,     0.98899,     0.98999,     0.99099,     0.99199,     0.99299,     0.99399,     0.99499,       0.996,       0.997,       0.998,       0.999,           1]), array([[    0.10816,     0.10816,      0.1372,     0.15828,     0.17546,     0.19093,     0.20426,     0.21617,     0.22778,     0.23812,     0.24793,     0.25683,     0.26559,     0.27375,     0.28201,     0.28972,     0.29687,     0.30409,     0.31103,     0.31793,      0.3247,     0.33119,      0.3375,\n",
       "            0.34369,      0.3498,     0.35561,     0.36132,     0.36696,     0.37276,     0.37808,     0.38361,     0.38876,     0.39353,     0.39825,     0.40324,     0.40816,     0.41271,     0.41712,     0.42273,     0.42671,     0.43141,     0.43656,     0.44076,      0.4456,     0.45002,     0.45436,\n",
       "            0.45838,     0.46227,     0.46646,     0.47046,     0.47417,     0.47806,     0.48245,     0.48612,     0.48969,     0.49353,     0.49743,     0.50051,     0.50416,     0.50784,     0.51097,     0.51462,     0.51779,     0.52129,     0.52458,     0.52801,     0.53117,      0.5347,     0.53847,\n",
       "            0.54133,     0.54411,     0.54737,     0.54991,     0.55296,     0.55578,     0.55894,     0.56137,     0.56423,      0.5675,      0.5699,     0.57308,      0.5756,     0.57824,     0.58147,     0.58424,     0.58749,     0.59016,     0.59296,     0.59529,     0.59777,     0.60097,      0.6035,\n",
       "            0.60591,     0.60837,     0.61082,     0.61343,     0.61609,      0.6185,     0.62121,     0.62305,      0.6255,     0.62806,     0.63048,     0.63332,       0.635,     0.63765,     0.64003,     0.64245,     0.64422,     0.64662,     0.64884,     0.65062,     0.65324,     0.65486,     0.65704,\n",
       "             0.6585,      0.6607,     0.66207,      0.6647,     0.66624,     0.66892,      0.6707,      0.6724,     0.67489,     0.67694,     0.67965,      0.6811,     0.68267,     0.68529,     0.68707,     0.68856,     0.69012,      0.6928,     0.69459,     0.69638,     0.69817,     0.70025,     0.70199,\n",
       "            0.70404,     0.70544,     0.70724,     0.70904,      0.7106,     0.71194,      0.7138,     0.71629,     0.71784,      0.7194,     0.72113,     0.72248,     0.72419,     0.72555,     0.72726,     0.72852,     0.73012,     0.73169,     0.73309,     0.73441,      0.7351,      0.7368,     0.73821,\n",
       "            0.73982,     0.74163,     0.74319,     0.74481,     0.74642,     0.74794,      0.7484,     0.74988,     0.75149,     0.75309,     0.75448,     0.75603,     0.75662,     0.75844,     0.76002,     0.76162,      0.7623,     0.76382,     0.76523,     0.76677,     0.76747,     0.76918,     0.77066,\n",
       "            0.77138,     0.77295,     0.77461,     0.77595,     0.77658,     0.77799,     0.77939,     0.78011,      0.7818,     0.78292,     0.78356,     0.78495,     0.78639,     0.78729,     0.78821,     0.78886,     0.79018,     0.79114,     0.79181,     0.79326,     0.79418,     0.79547,     0.79625,\n",
       "            0.79757,     0.79889,     0.79979,     0.80112,     0.80179,     0.80301,     0.80382,     0.80483,     0.80535,     0.80657,     0.80735,     0.80885,     0.80967,     0.81095,     0.81166,     0.81329,     0.81399,     0.81576,     0.81649,     0.81816,     0.81883,     0.82009,     0.82097,\n",
       "            0.82243,      0.8234,     0.82419,     0.82542,     0.82627,     0.82771,      0.8283,     0.82962,     0.83045,     0.83117,     0.83245,     0.83297,     0.83421,     0.83473,     0.83522,     0.83642,     0.83718,     0.83781,      0.8389,     0.83957,     0.84057,     0.84127,     0.84171,\n",
       "            0.84283,     0.84345,     0.84397,     0.84536,     0.84613,     0.84672,     0.84807,     0.84871,     0.84999,     0.85066,     0.85123,     0.85169,     0.85286,      0.8535,     0.85435,     0.85529,     0.85582,     0.85656,     0.85773,     0.85864,     0.85924,     0.85992,     0.86113,\n",
       "            0.86158,     0.86194,      0.8625,     0.86333,     0.86364,     0.86409,      0.8653,     0.86593,     0.86634,     0.86695,     0.86793,     0.86856,     0.86896,     0.86938,     0.87019,      0.8707,     0.87135,     0.87186,     0.87288,     0.87364,     0.87416,     0.87455,      0.8751,\n",
       "              0.876,     0.87676,     0.87723,     0.87775,     0.87876,      0.8795,        0.88,     0.88053,     0.88105,     0.88209,     0.88272,      0.8831,     0.88346,      0.8841,     0.88455,     0.88513,     0.88564,     0.88638,     0.88689,      0.8871,     0.88785,     0.88819,     0.88867,\n",
       "            0.88926,     0.88986,     0.89075,     0.89127,      0.8918,      0.8924,     0.89284,     0.89335,     0.89387,     0.89415,     0.89467,     0.89559,     0.89588,     0.89631,     0.89682,     0.89784,     0.89819,      0.8986,     0.89928,     0.89989,     0.90021,     0.90116,     0.90162,\n",
       "            0.90202,     0.90248,     0.90314,      0.9035,     0.90392,     0.90483,     0.90521,     0.90559,     0.90597,     0.90631,     0.90677,     0.90725,      0.9076,     0.90816,     0.90843,     0.90955,     0.91027,     0.91072,      0.9112,     0.91176,      0.9121,     0.91257,     0.91305,\n",
       "            0.91341,     0.91369,      0.9145,     0.91501,     0.91548,     0.91607,     0.91647,     0.91688,     0.91729,     0.91776,     0.91828,     0.91839,     0.91897,      0.9195,     0.91979,     0.92018,     0.92068,      0.9211,     0.92149,     0.92182,     0.92218,     0.92251,     0.92339,\n",
       "             0.9238,     0.92433,     0.92498,     0.92519,     0.92565,     0.92594,     0.92634,     0.92675,     0.92723,     0.92768,     0.92803,     0.92855,     0.92906,     0.92937,     0.92971,      0.9304,     0.93125,     0.93169,     0.93212,     0.93248,     0.93271,     0.93299,     0.93317,\n",
       "            0.93328,     0.93389,     0.93437,     0.93503,     0.93544,     0.93612,     0.93657,     0.93694,     0.93743,     0.93793,      0.9383,     0.93861,     0.93895,      0.9392,     0.93965,     0.93995,     0.94026,     0.94071,     0.94108,     0.94137,     0.94173,     0.94223,     0.94265,\n",
       "            0.94303,      0.9433,     0.94371,     0.94407,     0.94427,     0.94464,     0.94521,     0.94548,     0.94584,     0.94627,     0.94669,       0.947,     0.94724,     0.94758,     0.94792,     0.94836,     0.94855,      0.9487,     0.94889,     0.94922,     0.94942,     0.94975,     0.95021,\n",
       "            0.95043,     0.95085,     0.95108,     0.95141,     0.95185,     0.95227,     0.95248,     0.95291,     0.95321,     0.95381,     0.95406,     0.95427,     0.95456,     0.95491,     0.95529,     0.95565,      0.9561,     0.95682,     0.95733,     0.95769,     0.95828,     0.95875,     0.95899,\n",
       "            0.95909,     0.95925,     0.95972,     0.95982,     0.96018,     0.96054,     0.96095,     0.96121,     0.96148,     0.96177,     0.96199,     0.96224,     0.96235,     0.96257,     0.96261,     0.96279,     0.96321,     0.96334,     0.96346,     0.96381,     0.96402,     0.96428,      0.9646,\n",
       "            0.96476,     0.96497,      0.9652,     0.96532,     0.96559,     0.96576,     0.96628,     0.96652,     0.96684,     0.96707,     0.96721,     0.96759,     0.96772,     0.96785,     0.96825,     0.96865,      0.9687,     0.96873,     0.96907,      0.9692,     0.96943,      0.9696,     0.96983,\n",
       "            0.97001,     0.97025,     0.97059,     0.97089,     0.97107,     0.97124,     0.97137,      0.9715,     0.97159,     0.97212,     0.97246,     0.97276,     0.97308,     0.97349,     0.97366,     0.97398,     0.97419,     0.97426,     0.97452,     0.97454,     0.97484,     0.97507,     0.97533,\n",
       "            0.97558,     0.97589,     0.97597,     0.97606,     0.97614,     0.97639,     0.97659,     0.97694,     0.97715,     0.97717,      0.9775,      0.9777,     0.97774,     0.97805,     0.97813,     0.97833,     0.97847,     0.97856,     0.97877,     0.97879,     0.97882,     0.97891,     0.97919,\n",
       "            0.97929,     0.97944,     0.97983,     0.97998,     0.98013,     0.98023,     0.98019,     0.98045,     0.98079,     0.98101,     0.98109,     0.98114,     0.98124,     0.98134,     0.98148,     0.98163,     0.98174,     0.98183,     0.98193,     0.98237,     0.98237,     0.98286,     0.98305,\n",
       "            0.98305,     0.98325,     0.98324,     0.98353,      0.9836,     0.98419,     0.98422,     0.98437,     0.98437,     0.98469,     0.98495,     0.98508,     0.98515,     0.98521,     0.98568,     0.98574,     0.98603,     0.98609,      0.9863,     0.98637,     0.98664,     0.98664,     0.98692,\n",
       "            0.98727,     0.98727,     0.98736,     0.98735,     0.98743,     0.98749,     0.98765,     0.98771,     0.98799,     0.98807,     0.98803,     0.98833,     0.98839,     0.98836,     0.98835,     0.98838,     0.98838,     0.98834,     0.98834,     0.98856,     0.98874,      0.9888,     0.98883,\n",
       "            0.98882,     0.98877,     0.98877,     0.98888,     0.98887,     0.98926,     0.98958,     0.98958,     0.98976,     0.98976,     0.98987,     0.98987,     0.99004,     0.99004,     0.99015,     0.99046,     0.99053,     0.99078,      0.9911,     0.99117,     0.99142,     0.99142,     0.99141,\n",
       "            0.99152,     0.99156,     0.99156,     0.99175,     0.99172,     0.99172,     0.99184,     0.99183,      0.9921,      0.9921,     0.99229,     0.99233,     0.99233,     0.99238,      0.9925,      0.9925,     0.99277,     0.99277,     0.99296,     0.99301,     0.99307,      0.9932,     0.99319,\n",
       "             0.9934,      0.9934,     0.99345,     0.99364,     0.99364,     0.99376,     0.99376,     0.99397,     0.99426,     0.99426,     0.99447,     0.99453,     0.99452,     0.99482,     0.99482,     0.99504,     0.99502,     0.99501,     0.99508,     0.99508,     0.99531,     0.99536,     0.99536,\n",
       "            0.99542,     0.99542,      0.9954,     0.99546,     0.99545,     0.99552,     0.99575,     0.99575,     0.99573,      0.9958,     0.99579,     0.99577,     0.99584,     0.99592,     0.99607,     0.99622,     0.99622,     0.99629,     0.99629,     0.99635,     0.99642,     0.99642,     0.99648,\n",
       "            0.99655,     0.99664,     0.99699,     0.99716,     0.99714,     0.99714,     0.99712,     0.99712,      0.9971,     0.99717,     0.99717,     0.99725,     0.99732,     0.99732,      0.9975,     0.99748,     0.99748,     0.99746,     0.99743,     0.99743,     0.99772,      0.9978,     0.99778,\n",
       "            0.99778,     0.99798,     0.99796,     0.99815,     0.99815,     0.99824,     0.99822,     0.99822,     0.99821,     0.99819,     0.99828,     0.99828,     0.99826,     0.99836,     0.99836,     0.99834,     0.99832,     0.99832,      0.9983,      0.9984,     0.99851,     0.99861,     0.99861,\n",
       "            0.99859,     0.99896,     0.99895,     0.99895,     0.99893,     0.99905,     0.99904,     0.99904,     0.99902,     0.99915,     0.99913,     0.99913,     0.99912,     0.99925,     0.99924,     0.99923,     0.99923,     0.99922,      0.9992,     0.99919,     0.99917,     0.99916,     0.99916,\n",
       "            0.99914,     0.99912,     0.99909,     0.99907,     0.99907,     0.99905,     0.99903,       0.999,     0.99897,     0.99894,     0.99894,     0.99891,     0.99888,     0.99907,     0.99905,     0.99926,     0.99924,     0.99921,     0.99919,     0.99919,     0.99944,     0.99942,      0.9994,\n",
       "            0.99938,     0.99935,     0.99933,      0.9993,      0.9993,     0.99928,     0.99926,     0.99923,     0.99921,     0.99918,     0.99916,     0.99913,      0.9991,     0.99906,     0.99903,      0.9995,     0.99948,     0.99946,     0.99945,     0.99943,     0.99941,     0.99939,     0.99937,\n",
       "            0.99934,           1,           1,           1,           1,           1,           1,           1,           1,           1,           1,           1,           1,           1,           1,           1,           1,           1,           1,           1,           1,           1,           1,\n",
       "                  1,           1,           1,           1,           1,           1,           1,           1,           1,           1,           1,           1,           1,           1,           1,           1,           1,           1,           1,           1,           1,           1,           1,\n",
       "                  1,           1,           1,           1,           1,           1,           1,           1,           1,           1,           1,           1,           1,           1,           1,           1,           1,           1,           1,           1,           1,           1,           1,\n",
       "                  1,           1,           1,           1,           1,           1,           1,           1,           1,           1,           1,           1,           1,           1,           1,           1,           1,           1,           1,           1,           1,           1,           1,\n",
       "                  1,           1,           1,           1,           1,           1,           1,           1,           1,           1,           1,           1,           1,           1,           1,           1,           1,           1,           1,           1,           1,           1,           1,\n",
       "                  1,           1,           1,           1,           1,           1,           1,           1,           1,           1,           1,           1,           1,           1,           1,           1,           1,           1,           1,           1,           1,           1,           1,\n",
       "                  1,           1,           1,           1,           1,           1,           1,           1,           1,           1,           1]]), 'Confidence', 'Precision'], [array([          0,    0.001001,    0.002002,    0.003003,    0.004004,    0.005005,    0.006006,    0.007007,    0.008008,    0.009009,     0.01001,    0.011011,    0.012012,    0.013013,    0.014014,    0.015015,    0.016016,    0.017017,    0.018018,    0.019019,     0.02002,    0.021021,    0.022022,    0.023023,\n",
       "          0.024024,    0.025025,    0.026026,    0.027027,    0.028028,    0.029029,     0.03003,    0.031031,    0.032032,    0.033033,    0.034034,    0.035035,    0.036036,    0.037037,    0.038038,    0.039039,     0.04004,    0.041041,    0.042042,    0.043043,    0.044044,    0.045045,    0.046046,    0.047047,\n",
       "          0.048048,    0.049049,     0.05005,    0.051051,    0.052052,    0.053053,    0.054054,    0.055055,    0.056056,    0.057057,    0.058058,    0.059059,     0.06006,    0.061061,    0.062062,    0.063063,    0.064064,    0.065065,    0.066066,    0.067067,    0.068068,    0.069069,     0.07007,    0.071071,\n",
       "          0.072072,    0.073073,    0.074074,    0.075075,    0.076076,    0.077077,    0.078078,    0.079079,     0.08008,    0.081081,    0.082082,    0.083083,    0.084084,    0.085085,    0.086086,    0.087087,    0.088088,    0.089089,     0.09009,    0.091091,    0.092092,    0.093093,    0.094094,    0.095095,\n",
       "          0.096096,    0.097097,    0.098098,    0.099099,      0.1001,      0.1011,      0.1021,      0.1031,      0.1041,     0.10511,     0.10611,     0.10711,     0.10811,     0.10911,     0.11011,     0.11111,     0.11211,     0.11311,     0.11411,     0.11512,     0.11612,     0.11712,     0.11812,     0.11912,\n",
       "           0.12012,     0.12112,     0.12212,     0.12312,     0.12412,     0.12513,     0.12613,     0.12713,     0.12813,     0.12913,     0.13013,     0.13113,     0.13213,     0.13313,     0.13413,     0.13514,     0.13614,     0.13714,     0.13814,     0.13914,     0.14014,     0.14114,     0.14214,     0.14314,\n",
       "           0.14414,     0.14515,     0.14615,     0.14715,     0.14815,     0.14915,     0.15015,     0.15115,     0.15215,     0.15315,     0.15415,     0.15516,     0.15616,     0.15716,     0.15816,     0.15916,     0.16016,     0.16116,     0.16216,     0.16316,     0.16416,     0.16517,     0.16617,     0.16717,\n",
       "           0.16817,     0.16917,     0.17017,     0.17117,     0.17217,     0.17317,     0.17417,     0.17518,     0.17618,     0.17718,     0.17818,     0.17918,     0.18018,     0.18118,     0.18218,     0.18318,     0.18418,     0.18519,     0.18619,     0.18719,     0.18819,     0.18919,     0.19019,     0.19119,\n",
       "           0.19219,     0.19319,     0.19419,      0.1952,      0.1962,      0.1972,      0.1982,      0.1992,      0.2002,      0.2012,      0.2022,      0.2032,      0.2042,     0.20521,     0.20621,     0.20721,     0.20821,     0.20921,     0.21021,     0.21121,     0.21221,     0.21321,     0.21421,     0.21522,\n",
       "           0.21622,     0.21722,     0.21822,     0.21922,     0.22022,     0.22122,     0.22222,     0.22322,     0.22422,     0.22523,     0.22623,     0.22723,     0.22823,     0.22923,     0.23023,     0.23123,     0.23223,     0.23323,     0.23423,     0.23524,     0.23624,     0.23724,     0.23824,     0.23924,\n",
       "           0.24024,     0.24124,     0.24224,     0.24324,     0.24424,     0.24525,     0.24625,     0.24725,     0.24825,     0.24925,     0.25025,     0.25125,     0.25225,     0.25325,     0.25425,     0.25526,     0.25626,     0.25726,     0.25826,     0.25926,     0.26026,     0.26126,     0.26226,     0.26326,\n",
       "           0.26426,     0.26527,     0.26627,     0.26727,     0.26827,     0.26927,     0.27027,     0.27127,     0.27227,     0.27327,     0.27427,     0.27528,     0.27628,     0.27728,     0.27828,     0.27928,     0.28028,     0.28128,     0.28228,     0.28328,     0.28428,     0.28529,     0.28629,     0.28729,\n",
       "           0.28829,     0.28929,     0.29029,     0.29129,     0.29229,     0.29329,     0.29429,      0.2953,      0.2963,      0.2973,      0.2983,      0.2993,      0.3003,      0.3013,      0.3023,      0.3033,      0.3043,     0.30531,     0.30631,     0.30731,     0.30831,     0.30931,     0.31031,     0.31131,\n",
       "           0.31231,     0.31331,     0.31431,     0.31532,     0.31632,     0.31732,     0.31832,     0.31932,     0.32032,     0.32132,     0.32232,     0.32332,     0.32432,     0.32533,     0.32633,     0.32733,     0.32833,     0.32933,     0.33033,     0.33133,     0.33233,     0.33333,     0.33433,     0.33534,\n",
       "           0.33634,     0.33734,     0.33834,     0.33934,     0.34034,     0.34134,     0.34234,     0.34334,     0.34434,     0.34535,     0.34635,     0.34735,     0.34835,     0.34935,     0.35035,     0.35135,     0.35235,     0.35335,     0.35435,     0.35536,     0.35636,     0.35736,     0.35836,     0.35936,\n",
       "           0.36036,     0.36136,     0.36236,     0.36336,     0.36436,     0.36537,     0.36637,     0.36737,     0.36837,     0.36937,     0.37037,     0.37137,     0.37237,     0.37337,     0.37437,     0.37538,     0.37638,     0.37738,     0.37838,     0.37938,     0.38038,     0.38138,     0.38238,     0.38338,\n",
       "           0.38438,     0.38539,     0.38639,     0.38739,     0.38839,     0.38939,     0.39039,     0.39139,     0.39239,     0.39339,     0.39439,      0.3954,      0.3964,      0.3974,      0.3984,      0.3994,      0.4004,      0.4014,      0.4024,      0.4034,      0.4044,     0.40541,     0.40641,     0.40741,\n",
       "           0.40841,     0.40941,     0.41041,     0.41141,     0.41241,     0.41341,     0.41441,     0.41542,     0.41642,     0.41742,     0.41842,     0.41942,     0.42042,     0.42142,     0.42242,     0.42342,     0.42442,     0.42543,     0.42643,     0.42743,     0.42843,     0.42943,     0.43043,     0.43143,\n",
       "           0.43243,     0.43343,     0.43443,     0.43544,     0.43644,     0.43744,     0.43844,     0.43944,     0.44044,     0.44144,     0.44244,     0.44344,     0.44444,     0.44545,     0.44645,     0.44745,     0.44845,     0.44945,     0.45045,     0.45145,     0.45245,     0.45345,     0.45445,     0.45546,\n",
       "           0.45646,     0.45746,     0.45846,     0.45946,     0.46046,     0.46146,     0.46246,     0.46346,     0.46446,     0.46547,     0.46647,     0.46747,     0.46847,     0.46947,     0.47047,     0.47147,     0.47247,     0.47347,     0.47447,     0.47548,     0.47648,     0.47748,     0.47848,     0.47948,\n",
       "           0.48048,     0.48148,     0.48248,     0.48348,     0.48448,     0.48549,     0.48649,     0.48749,     0.48849,     0.48949,     0.49049,     0.49149,     0.49249,     0.49349,     0.49449,      0.4955,      0.4965,      0.4975,      0.4985,      0.4995,      0.5005,      0.5015,      0.5025,      0.5035,\n",
       "            0.5045,     0.50551,     0.50651,     0.50751,     0.50851,     0.50951,     0.51051,     0.51151,     0.51251,     0.51351,     0.51451,     0.51552,     0.51652,     0.51752,     0.51852,     0.51952,     0.52052,     0.52152,     0.52252,     0.52352,     0.52452,     0.52553,     0.52653,     0.52753,\n",
       "           0.52853,     0.52953,     0.53053,     0.53153,     0.53253,     0.53353,     0.53453,     0.53554,     0.53654,     0.53754,     0.53854,     0.53954,     0.54054,     0.54154,     0.54254,     0.54354,     0.54454,     0.54555,     0.54655,     0.54755,     0.54855,     0.54955,     0.55055,     0.55155,\n",
       "           0.55255,     0.55355,     0.55455,     0.55556,     0.55656,     0.55756,     0.55856,     0.55956,     0.56056,     0.56156,     0.56256,     0.56356,     0.56456,     0.56557,     0.56657,     0.56757,     0.56857,     0.56957,     0.57057,     0.57157,     0.57257,     0.57357,     0.57457,     0.57558,\n",
       "           0.57658,     0.57758,     0.57858,     0.57958,     0.58058,     0.58158,     0.58258,     0.58358,     0.58458,     0.58559,     0.58659,     0.58759,     0.58859,     0.58959,     0.59059,     0.59159,     0.59259,     0.59359,     0.59459,      0.5956,      0.5966,      0.5976,      0.5986,      0.5996,\n",
       "            0.6006,      0.6016,      0.6026,      0.6036,      0.6046,     0.60561,     0.60661,     0.60761,     0.60861,     0.60961,     0.61061,     0.61161,     0.61261,     0.61361,     0.61461,     0.61562,     0.61662,     0.61762,     0.61862,     0.61962,     0.62062,     0.62162,     0.62262,     0.62362,\n",
       "           0.62462,     0.62563,     0.62663,     0.62763,     0.62863,     0.62963,     0.63063,     0.63163,     0.63263,     0.63363,     0.63463,     0.63564,     0.63664,     0.63764,     0.63864,     0.63964,     0.64064,     0.64164,     0.64264,     0.64364,     0.64464,     0.64565,     0.64665,     0.64765,\n",
       "           0.64865,     0.64965,     0.65065,     0.65165,     0.65265,     0.65365,     0.65465,     0.65566,     0.65666,     0.65766,     0.65866,     0.65966,     0.66066,     0.66166,     0.66266,     0.66366,     0.66466,     0.66567,     0.66667,     0.66767,     0.66867,     0.66967,     0.67067,     0.67167,\n",
       "           0.67267,     0.67367,     0.67467,     0.67568,     0.67668,     0.67768,     0.67868,     0.67968,     0.68068,     0.68168,     0.68268,     0.68368,     0.68468,     0.68569,     0.68669,     0.68769,     0.68869,     0.68969,     0.69069,     0.69169,     0.69269,     0.69369,     0.69469,      0.6957,\n",
       "            0.6967,      0.6977,      0.6987,      0.6997,      0.7007,      0.7017,      0.7027,      0.7037,      0.7047,     0.70571,     0.70671,     0.70771,     0.70871,     0.70971,     0.71071,     0.71171,     0.71271,     0.71371,     0.71471,     0.71572,     0.71672,     0.71772,     0.71872,     0.71972,\n",
       "           0.72072,     0.72172,     0.72272,     0.72372,     0.72472,     0.72573,     0.72673,     0.72773,     0.72873,     0.72973,     0.73073,     0.73173,     0.73273,     0.73373,     0.73473,     0.73574,     0.73674,     0.73774,     0.73874,     0.73974,     0.74074,     0.74174,     0.74274,     0.74374,\n",
       "           0.74474,     0.74575,     0.74675,     0.74775,     0.74875,     0.74975,     0.75075,     0.75175,     0.75275,     0.75375,     0.75475,     0.75576,     0.75676,     0.75776,     0.75876,     0.75976,     0.76076,     0.76176,     0.76276,     0.76376,     0.76476,     0.76577,     0.76677,     0.76777,\n",
       "           0.76877,     0.76977,     0.77077,     0.77177,     0.77277,     0.77377,     0.77477,     0.77578,     0.77678,     0.77778,     0.77878,     0.77978,     0.78078,     0.78178,     0.78278,     0.78378,     0.78478,     0.78579,     0.78679,     0.78779,     0.78879,     0.78979,     0.79079,     0.79179,\n",
       "           0.79279,     0.79379,     0.79479,      0.7958,      0.7968,      0.7978,      0.7988,      0.7998,      0.8008,      0.8018,      0.8028,      0.8038,      0.8048,     0.80581,     0.80681,     0.80781,     0.80881,     0.80981,     0.81081,     0.81181,     0.81281,     0.81381,     0.81481,     0.81582,\n",
       "           0.81682,     0.81782,     0.81882,     0.81982,     0.82082,     0.82182,     0.82282,     0.82382,     0.82482,     0.82583,     0.82683,     0.82783,     0.82883,     0.82983,     0.83083,     0.83183,     0.83283,     0.83383,     0.83483,     0.83584,     0.83684,     0.83784,     0.83884,     0.83984,\n",
       "           0.84084,     0.84184,     0.84284,     0.84384,     0.84484,     0.84585,     0.84685,     0.84785,     0.84885,     0.84985,     0.85085,     0.85185,     0.85285,     0.85385,     0.85485,     0.85586,     0.85686,     0.85786,     0.85886,     0.85986,     0.86086,     0.86186,     0.86286,     0.86386,\n",
       "           0.86486,     0.86587,     0.86687,     0.86787,     0.86887,     0.86987,     0.87087,     0.87187,     0.87287,     0.87387,     0.87487,     0.87588,     0.87688,     0.87788,     0.87888,     0.87988,     0.88088,     0.88188,     0.88288,     0.88388,     0.88488,     0.88589,     0.88689,     0.88789,\n",
       "           0.88889,     0.88989,     0.89089,     0.89189,     0.89289,     0.89389,     0.89489,      0.8959,      0.8969,      0.8979,      0.8989,      0.8999,      0.9009,      0.9019,      0.9029,      0.9039,      0.9049,     0.90591,     0.90691,     0.90791,     0.90891,     0.90991,     0.91091,     0.91191,\n",
       "           0.91291,     0.91391,     0.91491,     0.91592,     0.91692,     0.91792,     0.91892,     0.91992,     0.92092,     0.92192,     0.92292,     0.92392,     0.92492,     0.92593,     0.92693,     0.92793,     0.92893,     0.92993,     0.93093,     0.93193,     0.93293,     0.93393,     0.93493,     0.93594,\n",
       "           0.93694,     0.93794,     0.93894,     0.93994,     0.94094,     0.94194,     0.94294,     0.94394,     0.94494,     0.94595,     0.94695,     0.94795,     0.94895,     0.94995,     0.95095,     0.95195,     0.95295,     0.95395,     0.95495,     0.95596,     0.95696,     0.95796,     0.95896,     0.95996,\n",
       "           0.96096,     0.96196,     0.96296,     0.96396,     0.96496,     0.96597,     0.96697,     0.96797,     0.96897,     0.96997,     0.97097,     0.97197,     0.97297,     0.97397,     0.97497,     0.97598,     0.97698,     0.97798,     0.97898,     0.97998,     0.98098,     0.98198,     0.98298,     0.98398,\n",
       "           0.98498,     0.98599,     0.98699,     0.98799,     0.98899,     0.98999,     0.99099,     0.99199,     0.99299,     0.99399,     0.99499,       0.996,       0.997,       0.998,       0.999,           1]), array([[    0.70621,     0.70621,     0.70402,      0.7017,     0.70021,     0.69858,     0.69699,     0.69575,     0.69437,     0.69328,       0.692,     0.69081,     0.68955,     0.68847,     0.68744,     0.68668,     0.68592,     0.68504,     0.68406,       0.683,     0.68187,     0.68106,     0.68038,\n",
       "            0.67957,     0.67871,     0.67798,     0.67725,     0.67635,     0.67574,     0.67496,     0.67423,     0.67365,     0.67307,     0.67229,     0.67163,     0.67095,     0.67004,     0.66919,     0.66853,     0.66805,     0.66727,     0.66644,     0.66566,     0.66503,      0.6645,     0.66384,\n",
       "            0.66321,     0.66271,     0.66205,      0.6612,     0.66082,     0.66047,     0.65948,     0.65903,     0.65822,     0.65774,     0.65721,     0.65666,     0.65583,     0.65504,     0.65452,     0.65381,     0.65333,     0.65273,     0.65215,     0.65127,     0.65061,     0.65016,     0.64927,\n",
       "            0.64874,     0.64807,     0.64744,     0.64711,     0.64665,     0.64622,      0.6456,     0.64499,     0.64434,     0.64406,     0.64368,     0.64285,     0.64232,     0.64182,     0.64113,     0.64055,     0.63965,     0.63907,     0.63869,     0.63829,     0.63796,     0.63725,     0.63667,\n",
       "            0.63627,     0.63574,     0.63534,     0.63478,     0.63425,     0.63365,     0.63325,     0.63282,     0.63244,     0.63178,     0.63103,     0.63047,     0.63004,     0.62935,     0.62886,     0.62823,     0.62773,     0.62708,     0.62639,     0.62616,     0.62568,     0.62528,     0.62473,\n",
       "            0.62415,      0.6233,     0.62286,     0.62221,     0.62193,     0.62132,     0.62097,     0.62049,     0.61994,     0.61958,       0.619,      0.6186,       0.618,     0.61739,     0.61701,     0.61628,     0.61583,      0.6153,     0.61491,     0.61453,     0.61411,     0.61308,     0.61265,\n",
       "            0.61238,      0.6117,     0.61142,     0.61096,     0.61059,     0.61011,      0.6097,     0.60912,     0.60877,     0.60839,     0.60784,     0.60746,     0.60693,     0.60653,     0.60612,     0.60562,     0.60509,     0.60466,     0.60434,     0.60371,     0.60353,     0.60305,     0.60265,\n",
       "            0.60219,     0.60181,     0.60121,     0.60086,      0.6002,     0.59982,     0.59965,     0.59924,     0.59866,     0.59821,     0.59768,     0.59735,     0.59718,     0.59672,      0.5964,     0.59607,     0.59574,     0.59524,     0.59468,      0.5941,      0.5939,      0.5936,     0.59314,\n",
       "            0.59292,     0.59226,     0.59186,      0.5913,     0.59101,     0.59052,     0.58994,     0.58957,     0.58925,     0.58868,     0.58836,     0.58787,     0.58745,     0.58699,     0.58654,     0.58622,     0.58547,     0.58485,      0.5847,     0.58422,     0.58384,     0.58331,     0.58302,\n",
       "            0.58252,       0.582,     0.58166,     0.58095,     0.58069,     0.58009,     0.57981,     0.57923,      0.5789,     0.57832,     0.57812,     0.57749,     0.57721,     0.57646,     0.57613,     0.57558,     0.57522,     0.57461,     0.57453,     0.57401,     0.57371,     0.57318,     0.57285,\n",
       "            0.57215,      0.5718,     0.57152,     0.57101,     0.57076,     0.57043,     0.57014,     0.56968,     0.56933,     0.56897,     0.56839,     0.56807,     0.56764,     0.56731,     0.56696,     0.56642,     0.56615,     0.56585,     0.56527,     0.56497,     0.56451,     0.56425,     0.56386,\n",
       "            0.56295,     0.56255,      0.5621,     0.56144,     0.56124,     0.56096,     0.56033,     0.55997,      0.5594,     0.55904,     0.55879,     0.55857,     0.55806,     0.55784,     0.55768,     0.55695,     0.55665,      0.5563,     0.55572,     0.55536,     0.55503,     0.55488,     0.55433,\n",
       "            0.55394,     0.55361,      0.5532,     0.55292,      0.5525,     0.55209,     0.55148,      0.5513,      0.5511,     0.55072,     0.55004,     0.54957,     0.54922,     0.54876,     0.54793,     0.54754,      0.5472,     0.54687,     0.54636,     0.54624,     0.54601,     0.54578,     0.54548,\n",
       "            0.54487,     0.54447,     0.54425,     0.54384,     0.54329,     0.54301,     0.54267,     0.54224,     0.54178,     0.54114,     0.54079,     0.54035,     0.53981,      0.5391,     0.53875,      0.5385,     0.53825,     0.53787,     0.53754,     0.53732,     0.53633,     0.53593,     0.53556,\n",
       "             0.5352,     0.53475,     0.53409,     0.53384,     0.53359,     0.53324,     0.53296,     0.53248,     0.53154,     0.53117,     0.53086,     0.53064,     0.53028,     0.52986,     0.52948,     0.52872,     0.52836,     0.52794,     0.52773,     0.52742,     0.52708,      0.5262,     0.52597,\n",
       "            0.52555,     0.52531,       0.525,     0.52464,     0.52436,      0.5236,     0.52325,     0.52295,     0.52255,     0.52226,     0.52202,      0.5217,     0.52117,     0.52093,     0.52058,     0.51982,     0.51954,     0.51911,     0.51858,     0.51808,     0.51784,     0.51733,     0.51693,\n",
       "            0.51637,     0.51604,     0.51511,     0.51471,     0.51425,     0.51364,     0.51328,     0.51282,     0.51246,     0.51191,     0.51153,      0.5111,     0.51025,     0.50979,     0.50949,     0.50899,     0.50847,     0.50814,     0.50763,     0.50703,     0.50662,     0.50622,      0.5052,\n",
       "            0.50447,     0.50402,     0.50344,     0.50308,      0.5027,     0.50218,     0.50179,     0.50145,     0.50098,     0.50052,     0.50024,     0.49984,     0.49951,     0.49913,      0.4988,     0.49835,     0.49746,     0.49704,     0.49663,     0.49602,     0.49572,     0.49519,     0.49469,\n",
       "            0.49414,     0.49364,     0.49313,     0.49273,     0.49231,     0.49172,     0.49132,     0.49097,     0.49052,     0.48945,     0.48905,     0.48862,     0.48834,     0.48786,     0.48743,     0.48687,      0.4864,     0.48592,     0.48549,     0.48509,     0.48456,      0.4843,     0.48386,\n",
       "            0.48354,     0.48308,     0.48255,     0.48205,     0.48132,     0.48084,     0.48043,     0.47993,     0.47937,     0.47894,     0.47846,     0.47786,      0.4774,     0.47657,     0.47614,     0.47589,     0.47539,     0.47486,     0.47447,     0.47397,     0.47354,     0.47306,     0.47256,\n",
       "             0.4722,     0.47173,     0.47137,     0.47086,     0.47041,     0.46987,     0.46935,     0.46888,     0.46843,     0.46791,     0.46743,       0.467,     0.46642,     0.46599,     0.46531,     0.46491,     0.46447,     0.46412,     0.46367,     0.46324,     0.46203,      0.4616,     0.46094,\n",
       "            0.46034,     0.45983,     0.45931,     0.45882,     0.45824,     0.45771,     0.45713,     0.45653,      0.4561,     0.45527,     0.45484,     0.45413,     0.45353,     0.45302,     0.45231,     0.45191,      0.4513,     0.45074,     0.45021,     0.44969,     0.44906,      0.4484,     0.44782,\n",
       "            0.44719,     0.44651,     0.44601,     0.44553,     0.44492,     0.44434,      0.4436,      0.4431,      0.4424,     0.44189,     0.44156,     0.44098,     0.44048,     0.44008,     0.43894,     0.43839,     0.43768,     0.43725,     0.43677,     0.43622,     0.43569,     0.43495,     0.43435,\n",
       "            0.43377,     0.43319,     0.43258,     0.43205,     0.43125,     0.43074,     0.43014,     0.42955,     0.42883,     0.42848,     0.42809,     0.42759,     0.42679,     0.42582,     0.42523,     0.42453,     0.42423,      0.4236,     0.42315,     0.42262,     0.42188,     0.42125,     0.42055,\n",
       "            0.41987,     0.41929,     0.41873,     0.41823,     0.41762,     0.41651,     0.41595,     0.41544,     0.41493,     0.41435,     0.41387,     0.41322,     0.41291,     0.41223,      0.4115,     0.41075,     0.41014,     0.40956,     0.40903,     0.40827,     0.40774,     0.40726,     0.40683,\n",
       "            0.40635,     0.40575,     0.40524,     0.40464,     0.40398,     0.40237,     0.40166,     0.40079,     0.40031,     0.39971,     0.39927,     0.39865,     0.39819,     0.39759,     0.39703,     0.39632,     0.39567,     0.39506,     0.39436,     0.39327,     0.39325,     0.39172,     0.39031,\n",
       "            0.39023,     0.38902,     0.38897,     0.38762,     0.38762,     0.38669,     0.38663,     0.38567,     0.38562,     0.38409,     0.38278,     0.38273,     0.38134,     0.38124,     0.38006,     0.37993,     0.37879,     0.37877,      0.3775,     0.37744,     0.37601,     0.37593,     0.37469,\n",
       "            0.37341,     0.37333,       0.372,     0.37192,     0.37024,     0.37017,     0.36891,     0.36875,     0.36759,     0.36752,     0.36621,     0.36486,     0.36476,     0.36367,     0.36357,     0.36233,      0.3623,     0.36111,     0.36101,     0.35947,     0.35846,     0.35841,     0.35687,\n",
       "            0.35676,     0.35505,     0.35504,     0.35401,     0.35388,     0.35289,     0.35185,      0.3518,     0.35074,     0.35073,     0.34972,     0.34969,     0.34841,     0.34838,     0.34701,     0.34549,     0.34539,     0.34393,     0.34238,      0.3423,     0.34084,     0.34071,     0.33921,\n",
       "            0.33909,     0.33765,     0.33757,     0.33635,     0.33504,     0.33494,     0.33377,     0.33371,     0.33241,      0.3324,     0.33095,     0.32941,     0.32934,     0.32804,     0.32691,     0.32678,     0.32534,     0.32523,     0.32341,      0.3233,     0.32151,     0.32012,     0.32001,\n",
       "            0.31852,     0.31844,     0.31706,     0.31503,     0.31482,      0.3131,     0.31297,     0.31136,     0.30996,      0.3098,     0.30828,     0.30677,     0.30671,     0.30525,     0.30523,     0.30346,     0.30195,     0.30182,     0.30065,     0.30055,      0.2993,     0.29759,     0.29753,\n",
       "            0.29593,     0.29586,     0.29441,     0.29266,     0.29253,     0.29107,     0.28969,     0.28962,     0.28799,     0.28652,     0.28644,     0.28495,     0.28297,     0.28289,     0.28086,     0.27909,     0.27899,     0.27739,     0.27733,     0.27548,     0.27333,      0.2733,     0.27148,\n",
       "            0.26915,     0.26909,     0.26732,     0.26544,     0.26394,     0.26382,     0.26204,     0.26201,     0.26023,     0.25787,     0.25785,     0.25572,     0.25341,     0.25339,     0.25146,     0.24942,      0.2494,     0.24727,     0.24478,     0.24477,     0.24242,     0.24021,     0.23808,\n",
       "            0.23806,     0.23605,     0.23379,      0.2315,     0.23149,     0.22895,     0.22659,     0.22657,     0.22436,     0.22185,     0.21943,     0.21939,     0.21699,     0.21494,      0.2149,     0.21223,      0.2098,     0.20978,     0.20718,      0.2047,     0.20226,     0.19962,      0.1996,\n",
       "            0.19699,     0.19447,      0.1917,     0.19167,     0.18844,     0.18567,     0.18298,     0.18297,     0.18017,     0.17712,     0.17456,     0.17455,      0.1717,     0.16895,     0.16585,     0.16302,       0.163,     0.16046,     0.15776,     0.15495,     0.15233,     0.14928,     0.14925,\n",
       "            0.14602,     0.14253,      0.1386,     0.13537,     0.13535,     0.13186,     0.12924,     0.12533,     0.12212,     0.11871,     0.11869,     0.11592,     0.11238,     0.10884,     0.10573,     0.10251,    0.099229,    0.095976,    0.092774,    0.092738,    0.089923,    0.086671,    0.083574,\n",
       "           0.080826,    0.077694,    0.074675,    0.072358,    0.072341,    0.070027,    0.068006,    0.065712,    0.063923,    0.061791,    0.059749,    0.057606,    0.055752,    0.053507,    0.052008,    0.050279,    0.048362,    0.046996,     0.04539,    0.044124,    0.042661,    0.041046,    0.039817,\n",
       "           0.038196,    0.036606,    0.035345,    0.033831,     0.03263,    0.031056,    0.029806,    0.028735,    0.027599,    0.025456,    0.024523,    0.023437,    0.022579,    0.021922,    0.021265,    0.020584,    0.019751,    0.019213,    0.018614,    0.017957,     0.01722,    0.015921,     0.01524,\n",
       "           0.014735,    0.014246,    0.013688,    0.013234,    0.012628,    0.011531,    0.010951,    0.010383,     0.01008,   0.0095981,   0.0092093,    0.008881,   0.0080108,   0.0077279,   0.0074424,   0.0069629,   0.0061935,   0.0060342,   0.0058268,   0.0054859,   0.0052994,   0.0050687,   0.0045262,\n",
       "          0.0042623,   0.0040839,   0.0036926,   0.0032755,   0.0031368,   0.0027707,   0.0027172,   0.0024922,    0.002387,   0.0022515,    0.002082,   0.0020234,   0.0017014,   0.0015054,   0.0013965,   0.0012017,   0.0011167,  0.00091378,  0.00083433,  0.00070962,  0.00055713,  0.00047957,  0.00042858,\n",
       "         0.00036928,  0.00035044,  0.00031803,  0.00030081,  0.00028359,  0.00026092,  0.00022248,  0.00017394,  0.00016102,  0.00014497,  0.00011225,  6.9866e-05,  6.2484e-05,  5.5102e-05,  4.6645e-05,  3.6311e-05,  2.5977e-05,           0,           0,           0,           0,           0,           0,\n",
       "                  0,           0,           0,           0,           0,           0,           0,           0,           0,           0,           0,           0,           0,           0,           0,           0,           0,           0,           0,           0,           0,           0,           0,\n",
       "                  0,           0,           0,           0,           0,           0,           0,           0,           0,           0,           0,           0,           0,           0,           0,           0,           0,           0,           0,           0,           0,           0,           0,\n",
       "                  0,           0,           0,           0,           0,           0,           0,           0,           0,           0,           0]]), 'Confidence', 'Recall']]\n",
       "fitness: np.float64(0.38264913496315606)\n",
       "keys: ['metrics/precision(B)', 'metrics/recall(B)', 'metrics/mAP50(B)', 'metrics/mAP50-95(B)']\n",
       "maps: array([    0.35314])\n",
       "names: {0: 'face'}\n",
       "plot: True\n",
       "results_dict: {'metrics/precision(B)': np.float64(0.8364214455411808), 'metrics/recall(B)': np.float64(0.5664228143287164), 'metrics/mAP50(B)': np.float64(0.6482758957322452), 'metrics/mAP50-95(B)': np.float64(0.3531350504332572), 'fitness': np.float64(0.38264913496315606)}\n",
       "save_dir: PosixPath('runs/detect/train7')\n",
       "speed: {'preprocess': 0.13478560041087542, 'inference': 1.3887459363124168, 'loss': 0.00032861103383145595, 'postprocess': 0.6949306458465813}\n",
       "task: 'detect'"
      ]
     },
     "execution_count": 15,
     "metadata": {},
     "output_type": "execute_result"
    }
   ],
   "source": [
    "device = torch.device('cuda' if torch.cuda.is_available() else 'cpu')\n",
    "model = model.to(device)\n",
    "model.train(data='data.yaml', epochs=50, batch=16, imgsz=640)"
   ]
  },
  {
   "cell_type": "code",
   "execution_count": 17,
   "id": "97cab987-63bb-4698-8208-c2e9330da63c",
   "metadata": {},
   "outputs": [
    {
     "name": "stdout",
     "output_type": "stream",
     "text": [
      "Randomly selected image: Training/images/13_Interview_Interview_Sequences_13_287.jpg\n",
      "\n",
      "image 1/1 /home/student/SSY340-Project/object-detection/Training/images/13_Interview_Interview_Sequences_13_287.jpg: 224x640 7 persons, 85.0ms\n",
      "Speed: 1.5ms preprocess, 85.0ms inference, 1.4ms postprocess per image at shape (1, 3, 224, 640)\n"
     ]
    },
    {
     "name": "stderr",
     "output_type": "stream",
     "text": [
      "/usr/bin/xdg-open: 882: www-browser: not found\n",
      "/usr/bin/xdg-open: 882: links2: not found\n",
      "/usr/bin/xdg-open: 882: elinks: not found\n",
      "/usr/bin/xdg-open: 882: links: not found\n",
      "/usr/bin/xdg-open: 882: lynx: not found\n",
      "/usr/bin/xdg-open: 882: w3m: not found\n",
      "xdg-open: no method available for opening '/tmp/tmp1dfks87a.PNG'\n"
     ]
    }
   ],
   "source": [
    "trained_model = YOLO('yolov8n.pt')\n",
    "\n",
    "# Define the path to the images directory\n",
    "images_dir = 'Training/images/'\n",
    "\n",
    "# List all image files in the directory (directly under images_dir)\n",
    "image_files = [os.path.join(images_dir, f) for f in os.listdir(images_dir) if f.endswith('.jpg')]\n",
    "\n",
    "# Ensure there are images available\n",
    "if len(image_files) == 0:\n",
    "    print(\"No images found in the directory.\")\n",
    "else:\n",
    "    # Randomly select an image from the list\n",
    "    random_image = random.choice(image_files)\n",
    "    print(f\"Randomly selected image: {random_image}\")\n",
    "\n",
    "    # Run inference on the selected image\n",
    "    results = trained_model(random_image)\n",
    "\n",
    "    # Display the results\n",
    "    results[0].show()"
   ]
  },
  {
   "cell_type": "code",
   "execution_count": null,
   "id": "710ac965-2ebf-466a-8e5d-3becc94303fe",
   "metadata": {},
   "outputs": [],
   "source": []
  }
 ],
 "metadata": {
  "kernelspec": {
   "display_name": "Python 3 (ipykernel)",
   "language": "python",
   "name": "python3"
  },
  "language_info": {
   "codemirror_mode": {
    "name": "ipython",
    "version": 3
   },
   "file_extension": ".py",
   "mimetype": "text/x-python",
   "name": "python",
   "nbconvert_exporter": "python",
   "pygments_lexer": "ipython3",
   "version": "3.11.10"
  }
 },
 "nbformat": 4,
 "nbformat_minor": 5
}
