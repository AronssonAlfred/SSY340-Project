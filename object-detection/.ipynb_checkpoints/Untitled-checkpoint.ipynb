{
 "cells": [
  {
   "cell_type": "markdown",
   "id": "1b645697-252b-4642-b9dd-bc100d036f46",
   "metadata": {},
   "source": [
    "### Evaluate Trained Model"
   ]
  },
  {
   "cell_type": "code",
   "execution_count": 1,
   "id": "cd493e5c-c615-46e6-bd02-db001529a428",
   "metadata": {},
   "outputs": [],
   "source": [
    "import numpy as np\n",
    "import matplotlib.pyplot as plt\n",
    "import torch\n",
    "from ultralytics import YOLO\n",
    "import os\n",
    "import cv2\n",
    "import zipfile\n",
    "import random\n",
    "import shutil"
   ]
  },
  {
   "cell_type": "markdown",
   "id": "ce4bc928-876d-47cf-ab23-0c0a16c40236",
   "metadata": {},
   "source": [
    "### Unzip test data"
   ]
  },
  {
   "cell_type": "code",
   "execution_count": 10,
   "id": "2b33aab4-1b52-4d50-8878-08b7254ab345",
   "metadata": {},
   "outputs": [
    {
     "name": "stdout",
     "output_type": "stream",
     "text": [
      "Extracted all images from 'WIDER_test.zip' to 'Test\\images' successfully, with flattened directory structure.\n"
     ]
    }
   ],
   "source": [
    "def unzip_images_only(zip_file_path, dest_dir, images_location):\n",
    "    \"\"\"\n",
    "    Unzips only the 'images' folder from a given zip file to the specified destination directory.\n",
    "    It extracts all images from the 'WIDER_train/images' folder and places them directly into 'dest_dir/images'.\n",
    "\n",
    "    Parameters:\n",
    "    zip_file_path (str): Path to the zip file to be extracted.\n",
    "    dest_dir (str): Directory where the images should be extracted, into a subdirectory named 'images'.\n",
    "    images_location (str): The folder path inside the zip file where images are located.\n",
    "    \"\"\"\n",
    "    # Define the full path for the 'images' subdirectory\n",
    "    images_dest_dir = os.path.join(dest_dir, 'images')\n",
    "\n",
    "    # Ensure the 'images' subdirectory exists\n",
    "    if not os.path.exists(images_dest_dir):\n",
    "        os.makedirs(images_dest_dir)\n",
    "\n",
    "    # Open the zip file\n",
    "    with zipfile.ZipFile(zip_file_path, 'r') as zip_ref:\n",
    "        for file_info in zip_ref.infolist():\n",
    "            # Extract only files from the specified 'images_location' folder\n",
    "            if file_info.filename.startswith(images_location) and not file_info.is_dir():\n",
    "                # Flatten the structure by moving all images directly into 'images_dest_dir'\n",
    "                # Extract the filename only (ignore subdirectories)\n",
    "                filename = os.path.basename(file_info.filename)\n",
    "                target_path = os.path.join(images_dest_dir, filename)\n",
    "                \n",
    "                # Extract the file to the target path\n",
    "                with zip_ref.open(file_info) as source, open(target_path, 'wb') as target:\n",
    "                    target.write(source.read())\n",
    "\n",
    "        print(f\"Extracted all images from '{zip_file_path}' to '{images_dest_dir}' successfully, with flattened directory structure.\")\n",
    "\n",
    "# Unzip test data\n",
    "if not os.path.exists('Test'):\n",
    "    os.makedirs('Test')\n",
    "\n",
    "if not os.path.exists('Test/images'):\n",
    "    os.makedirs('Test/images')\n",
    "\n",
    "zip_file_path_train = 'WIDER_test.zip'\n",
    "dest_dir_train = 'Test'\n",
    "images_location_train = 'WIDER_test/images/'\n",
    "\n",
    "if not os.listdir('Test/images'):\n",
    "    unzip_images_only(zip_file_path_train, dest_dir_train, images_location_train)"
   ]
  },
  {
   "cell_type": "code",
   "execution_count": 11,
   "id": "634aa216-49ca-49a6-ab5e-28c78226fac1",
   "metadata": {},
   "outputs": [],
   "source": [
    "trained_model = YOLO('runs/detect/train7/weights/best.pt')"
   ]
  },
  {
   "cell_type": "code",
   "execution_count": 31,
   "id": "e11c2544-634f-4c7e-949f-c0116907e38a",
   "metadata": {},
   "outputs": [
    {
     "name": "stdout",
     "output_type": "stream",
     "text": [
      "Randomly selected image: Test/images/53_Raid_policeraid_53_934.jpg\n",
      "\n",
      "image 1/1 C:\\Users\\Alfred Aronsson\\SSY340-Project\\object-detection\\Test\\images\\53_Raid_policeraid_53_934.jpg: 448x640 2 faces, 154.3ms\n",
      "Speed: 5.7ms preprocess, 154.3ms inference, 1.0ms postprocess per image at shape (1, 3, 448, 640)\n"
     ]
    }
   ],
   "source": [
    "# Define the path to the images directory\n",
    "images_dir = 'Test/images/'\n",
    "\n",
    "# List all image files in the directory (directly under images_dir)\n",
    "image_files = [os.path.join(images_dir, f) for f in os.listdir(images_dir) if f.endswith('.jpg')]\n",
    "\n",
    "# Ensure there are images available\n",
    "if len(image_files) == 0:\n",
    "    print(\"No images found in the directory.\")\n",
    "else:\n",
    "    # Randomly select an image from the list\n",
    "    random_image = random.choice(image_files)\n",
    "    print(f\"Randomly selected image: {random_image}\")\n",
    "\n",
    "    # Run inference on the selected image\n",
    "    results = trained_model(random_image)\n",
    "\n",
    "    # Display the results\n",
    "    results[0].show()"
   ]
  },
  {
   "cell_type": "code",
   "execution_count": 17,
   "id": "5f487fbe-aef2-433b-86c2-a38cee8fa104",
   "metadata": {},
   "outputs": [
    {
     "name": "stdout",
     "output_type": "stream",
     "text": [
      "\n",
      "image 1/1 C:\\Users\\Alfred Aronsson\\SSY340-Project\\object-detection\\Alfred.jpg: 384x640 1 face, 130.4ms\n",
      "Speed: 2.1ms preprocess, 130.4ms inference, 1.0ms postprocess per image at shape (1, 3, 384, 640)\n"
     ]
    }
   ],
   "source": [
    "results2 = trained_model('Alfred.jpg')\n",
    "results2[0].show()"
   ]
  },
  {
   "cell_type": "code",
   "execution_count": null,
   "id": "7e27b7fb-8c70-46ab-a9bc-1c924cb0bfe9",
   "metadata": {},
   "outputs": [],
   "source": []
  }
 ],
 "metadata": {
  "kernelspec": {
   "display_name": "Python 3 (ipykernel)",
   "language": "python",
   "name": "python3"
  },
  "language_info": {
   "codemirror_mode": {
    "name": "ipython",
    "version": 3
   },
   "file_extension": ".py",
   "mimetype": "text/x-python",
   "name": "python",
   "nbconvert_exporter": "python",
   "pygments_lexer": "ipython3",
   "version": "3.11.9"
  }
 },
 "nbformat": 4,
 "nbformat_minor": 5
}
